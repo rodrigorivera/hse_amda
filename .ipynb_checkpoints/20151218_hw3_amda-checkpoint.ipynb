{
 "cells": [
  {
   "cell_type": "markdown",
   "metadata": {},
   "source": [
    "# Homework 3\n",
    "## Rodrigo Rivera"
   ]
  },
  {
   "cell_type": "markdown",
   "metadata": {},
   "source": [
    "1. Estimate the PageRank for the given Web (see the Graph) with finite number of iterations using your own developed program:\n",
    "    \n",
    "    With no taxation\n",
    "    \n",
    "    Β=0.9\n",
    "2. Define the criteria of stopping (e.g. ε<0.001)\n",
    "3. Report should contain:\n",
    "    The structure of the Web (Graph)\n",
    "    Description of code / script and etc.\n",
    "4. Conclusions"
   ]
  },
  {
   "cell_type": "code",
   "execution_count": 2,
   "metadata": {
    "collapsed": true
   },
   "outputs": [],
   "source": [
    "from array import array\n",
    "from ctypes import c_double,pointer\n",
    "import fileinput\n",
    "import sys\n",
    "import time\n",
    "import os"
   ]
  },
  {
   "cell_type": "code",
   "execution_count": 4,
   "metadata": {
    "collapsed": true
   },
   "outputs": [],
   "source": [
    "def readGraph(lines):\n",
    "    g = {} # node number -> out-link counts \n",
    "    inG = {} # node number -> set of in-link node numbers\n",
    "    nodes = set() # all nodes\n",
    "    for line in lines:\n",
    "        #line = line.strip()\n",
    "        if line.startswith('#'):\n",
    "            continue\n",
    "        l = line.split()\n",
    "        k = int(l[0])\n",
    "        v = int(l[-1])\n",
    "        g.setdefault(k, set()).add(v)\n",
    "        #inG.setdefault(v, set()).add(k)\n",
    "        nodes.add(k)\n",
    "        nodes.add(v)\n",
    "    return g, inG, sorted(nodes)"
   ]
  },
  {
   "cell_type": "code",
   "execution_count": 5,
   "metadata": {
    "collapsed": true
   },
   "outputs": [],
   "source": [
    "def diff_vector(l1, l2):\n",
    "    s = 0.0\n",
    "    i = 0\n",
    "    size = len(l1)\n",
    "    while i < size:\n",
    "        s += abs(l1[i] - l2[i])\n",
    "        i += 1\n",
    "    return s"
   ]
  },
  {
   "cell_type": "code",
   "execution_count": 6,
   "metadata": {
    "collapsed": true
   },
   "outputs": [],
   "source": [
    "def transformGraph(nodes, inG, g):\n",
    "    idxInG = {} # instead of storing node number, store index of node -> index of in-nodexs\n",
    "    idxG = {}\n",
    "    idx = dict(zip(nodes, range(len(nodes))))\n",
    "    for node, inNodes in inG.iteritems():\n",
    "        idxInG[idx[node]] = set([idx[inNode] for inNode in inNodes])\n",
    "    for node, outNodes in g.iteritems():\n",
    "        idxG[idx[node]] = set([idx[outNode] for outNode in outNodes])\n",
    "    return idxInG, idxG"
   ]
  },
  {
   "cell_type": "code",
   "execution_count": 7,
   "metadata": {
    "collapsed": true
   },
   "outputs": [],
   "source": [
    "def transformToArray(nodes, inG, g):\n",
    "    a = array('l')\n",
    "    idx = dict(zip(nodes, range(len(nodes))))\n",
    "    idxInG, idxG = transformGraph(nodes, inG, g)\n",
    "    i = 0\n",
    "    while i < len(nodes): #[<index>, <size>, <out node list>]\n",
    "        if i in idxG:\n",
    "            a.append(i) \n",
    "            outNodes = idxG[i]\n",
    "            a.append(len(outNodes))\n",
    "            a.extend(outNodes)\n",
    "        i += 1\n",
    "    return idxInG, a"
   ]
  },
  {
   "cell_type": "code",
   "execution_count": null,
   "metadata": {
    "collapsed": true
   },
   "outputs": [],
   "source": [
    "\n",
    "\n",
    "def fillVector(r, num):\n",
    "  i = 0\n",
    "  size = len(r)\n",
    "  while i < size:\n",
    "    r[i] = num\n",
    "    i += 1\n",
    "\n",
    "def forEachElement(r, func):\n",
    "  i = 0\n",
    "  size = len(r)\n",
    "  while i < size:\n",
    "    r[i] = func(r[i], i)\n",
    "    i += 1\n",
    "\n",
    "def pageRank(nodes, g, inG, beta=0.8, e=1e-8, n=1e2):\n",
    "  \n",
    "  r = array('d',[1.0/len(nodes)] * len(nodes))\n",
    "  r_ = array('d', r)\n",
    "\n",
    "  size = len(nodes)\n",
    "  gSize = len(g)\n",
    "  diff = e + 1\n",
    "  t = 1\n",
    "  while diff > e and (n == -1 or t < n):\n",
    "    sum_r = 0.0\n",
    "    # fill in 0s\n",
    "    fillVector(r_, 0.0)\n",
    "\n",
    "    # start iteration\n",
    "    cursor = 0\n",
    "    while cursor < gSize:\n",
    "      i = g[cursor]\n",
    "      cursor += 1\n",
    "      row_size = g[cursor]\n",
    "      cursor += 1\n",
    "      row_end = cursor + row_size\n",
    "\n",
    "      score_share = r[i] / row_size\n",
    "      sum_r += r[i]\n",
    "      while cursor < row_end :\n",
    "\tr_[ g[cursor] ] += score_share\n",
    "\tcursor += 1\n",
    "    \n",
    "    # multiply by beta\n",
    "    sum_r = sum_r * beta\n",
    "    leaked = 1 - sum_r\n",
    "    leaked_share = leaked / size if leaked > 0 else 0.0\n",
    "    \n",
    "    _i = 0\n",
    "    while _i < size:\n",
    "      # multiply by beta and fix leak at the same time\n",
    "      r_[_i] = r_[_i] * beta + leaked_share\n",
    "      _i +=1\n",
    "    \n",
    "    diff = diff_vector(r, r_)\n",
    "    r, r_ = r_, r\n",
    "    t += 1\n",
    "  return r, t\n",
    "    \n",
    "if __name__ == '__main__':\n",
    "\n",
    "  \n",
    "  print >> sys.stderr, 'PID {0}'.format(os.getpid())\n",
    "  timer = time.time()\n",
    "  lines = fileinput.input()\n",
    "  g, inG, nodes = readGraph(lines)\n",
    "  print >> sys.stderr, 'Read graph: {0:.1f} seconds.'.format(time.time() - timer)\n",
    "\n",
    "  timer = 0 - time.time()\n",
    "  inG, g = transformToArray(nodes, inG, g)\n",
    "  timer += time.time()\n",
    "  print >> sys.stderr, 'Preprocess graph: {0:.1f} seconds'.format(timer)\n",
    "\n",
    "  timer = 0 - time.time() \n",
    "  r, t = pageRank(nodes, g, inG)\n",
    "  timer += time.time()\n",
    "  print >> sys.stderr, 'Page Rank: {0:.1f} seconds.'.format(timer)\n",
    "  for idx, i in enumerate(r):\n",
    "    print '{0} {1:.10e}'.format(nodes[idx], i)\n",
    "  print >> sys.stderr, 'Done after {0} iterations.'.format(t)"
   ]
  }
 ],
 "metadata": {
  "kernelspec": {
   "display_name": "Python 2",
   "language": "python",
   "name": "python2"
  },
  "language_info": {
   "codemirror_mode": {
    "name": "ipython",
    "version": 2
   },
   "file_extension": ".py",
   "mimetype": "text/x-python",
   "name": "python",
   "nbconvert_exporter": "python",
   "pygments_lexer": "ipython2",
   "version": "2.7.10"
  }
 },
 "nbformat": 4,
 "nbformat_minor": 0
}
