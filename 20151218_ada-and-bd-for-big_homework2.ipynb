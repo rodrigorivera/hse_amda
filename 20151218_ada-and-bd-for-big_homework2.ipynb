{
 "cells": [
  {
   "cell_type": "markdown",
   "metadata": {},
   "source": [
    "# homework2\n",
    "\n",
    "## Rodrigo Rivera\n",
    "\n",
    "### Shingling and minhashing\n",
    "\n",
    "1. Take the collection of documents\n",
    "2. Do shingling with k1=4\n",
    "2.1. singling function: Arguments are document, k. Output must be a list of shingles, no duplicates. Hashing can be excluded\n",
    "2.2. Create the hash function that converts string to integer shingles\n",
    "3. Total: Output matrix (rows shingles, columns documents\n",
    "\n",
    "### Clustering\n",
    "1. Draw the dendogram for the matrix\n",
    "2. Make the conclusion"
   ]
  },
  {
   "cell_type": "code",
   "execution_count": null,
   "metadata": {
    "collapsed": true
   },
   "outputs": [],
   "source": []
  }
 ],
 "metadata": {
  "kernelspec": {
   "display_name": "Python 2",
   "language": "python",
   "name": "python2"
  },
  "language_info": {
   "codemirror_mode": {
    "name": "ipython",
    "version": 2
   },
   "file_extension": ".py",
   "mimetype": "text/x-python",
   "name": "python",
   "nbconvert_exporter": "python",
   "pygments_lexer": "ipython2",
   "version": "2.7.10"
  }
 },
 "nbformat": 4,
 "nbformat_minor": 0
}
