{
 "cells": [
  {
   "cell_type": "markdown",
   "metadata": {},
   "source": [
    "## Homework 3 AIMDA\n",
    "0. Given the time series (gold.dlm) of prices for gold.\n",
    "1. Construct the neural network for forecasting \n",
    "2. Define the length of \"input window\" (the number of input values for neural network) \n",
    "3. Try different numbers of neurons in hidden layer \n",
    "4. Perform the forecasting\n",
    "5. Define the efficient forecasting horizon (number of forecasted values with an appropriate error)\n",
    "6. Make conclusions on the results of forecasting using different lengths of \"input window\" and numbers of neurons in hidden layer"
   ]
  },
  {
   "cell_type": "markdown",
   "metadata": {},
   "source": [
    "### Summary\n",
    "\n",
    "We download the dataset, explored its data and prepared it for statistical tasks. The date had to be adapted, an index was set and the dates were adjusted to a running time series. Later, a linear regression was fitted to verify if the dataset is suited of a regression task. For this, a training and a test set were generated (80/20). The result was that the first dataset achieved better results. This was used to feed the neural network. The \"input window\" was the training dataset with 1771 labels and 448 labels for the test set or the \"efficient forecasting horizon\". A total of 100 neurons was used and remained fixed. The epochs were adjusted accordingly and later optimized.\n",
    "\n",
    "### Conclusions\n",
    "For this task, both the dataset and the model were not adecquate. The set was too small and for the type of task, a linear regression would have been sufficient. Moreover, neural networks are better suited for classification than for regression tasks."
   ]
  },
  {
   "cell_type": "code",
   "execution_count": null,
   "metadata": {
    "collapsed": false
   },
   "outputs": [],
   "source": [
    "#Lets download the necessary dataset\n",
    "!wget https://www.dropbox.com/s/wu430seilidbxr5/gold.dlm?dl=0"
   ]
  },
  {
   "cell_type": "code",
   "execution_count": 196,
   "metadata": {
    "collapsed": false
   },
   "outputs": [],
   "source": [
    "#import the necessary libraries to work with\n",
    "import pandas as pd\n",
    "\n",
    "import numpy as np\n",
    "import cPickle as pickle\n",
    "from math import sqrt\n",
    "from pybrain.datasets.supervised import SupervisedDataSet as SDS\n",
    "from sklearn.metrics import mean_squared_error as MSE\n",
    "from pybrain.tools.shortcuts import buildNetwork\n",
    "from pybrain.supervised.trainers import BackpropTrainer\n",
    "\n",
    "from sklearn import linear_model\n",
    "from sklearn.linear_model import LinearRegression\n",
    "\n",
    "# Import a convenience function to split the sets.\n",
    "from sklearn.cross_validation import train_test_split\n",
    "\n",
    "import matplotlib.pyplot as plt\n",
    "plt.style.use('ggplot')\n",
    "%matplotlib inline\n"
   ]
  },
  {
   "cell_type": "code",
   "execution_count": 165,
   "metadata": {
    "collapsed": false
   },
   "outputs": [],
   "source": [
    "#parse the file that we just downloaded into a dataframe\n",
    "df = pd.read_csv('gold.dlm?dl=0', engine='python', delimiter=r'\\t', date_parser=True)"
   ]
  },
  {
   "cell_type": "code",
   "execution_count": 166,
   "metadata": {
    "collapsed": false
   },
   "outputs": [
    {
     "name": "stdout",
     "output_type": "stream",
     "text": [
      "Index([u'Date', u'Close'], dtype='object')\n"
     ]
    },
    {
     "data": {
      "text/html": [
       "<div>\n",
       "<table border=\"1\" class=\"dataframe\">\n",
       "  <thead>\n",
       "    <tr style=\"text-align: right;\">\n",
       "      <th></th>\n",
       "      <th>Date</th>\n",
       "      <th>Close</th>\n",
       "    </tr>\n",
       "  </thead>\n",
       "  <tbody>\n",
       "    <tr>\n",
       "      <th>0</th>\n",
       "      <td>13.02.2015</td>\n",
       "      <td>1223.7</td>\n",
       "    </tr>\n",
       "    <tr>\n",
       "      <th>1</th>\n",
       "      <td>12.02.2015</td>\n",
       "      <td>1220.7</td>\n",
       "    </tr>\n",
       "    <tr>\n",
       "      <th>2</th>\n",
       "      <td>11.02.2015</td>\n",
       "      <td>1219.6</td>\n",
       "    </tr>\n",
       "    <tr>\n",
       "      <th>3</th>\n",
       "      <td>10.02.2015</td>\n",
       "      <td>1232.2</td>\n",
       "    </tr>\n",
       "    <tr>\n",
       "      <th>4</th>\n",
       "      <td>09.02.2015</td>\n",
       "      <td>1241.5</td>\n",
       "    </tr>\n",
       "  </tbody>\n",
       "</table>\n",
       "</div>"
      ],
      "text/plain": [
       "         Date   Close\n",
       "0  13.02.2015  1223.7\n",
       "1  12.02.2015  1220.7\n",
       "2  11.02.2015  1219.6\n",
       "3  10.02.2015  1232.2\n",
       "4  09.02.2015  1241.5"
      ]
     },
     "execution_count": 166,
     "metadata": {},
     "output_type": "execute_result"
    }
   ],
   "source": [
    "#lets take a look at the columns of the  dataframe\n",
    "print(df.columns)\n",
    "df.head()"
   ]
  },
  {
   "cell_type": "code",
   "execution_count": 167,
   "metadata": {
    "collapsed": false
   },
   "outputs": [
    {
     "name": "stdout",
     "output_type": "stream",
     "text": [
      "Index([u'Date', u'Close'], dtype='object')\n"
     ]
    },
    {
     "data": {
      "text/html": [
       "<div>\n",
       "<table border=\"1\" class=\"dataframe\">\n",
       "  <thead>\n",
       "    <tr style=\"text-align: right;\">\n",
       "      <th></th>\n",
       "      <th>Date</th>\n",
       "      <th>Close</th>\n",
       "    </tr>\n",
       "    <tr>\n",
       "      <th>Date</th>\n",
       "      <th></th>\n",
       "      <th></th>\n",
       "    </tr>\n",
       "  </thead>\n",
       "  <tbody>\n",
       "    <tr>\n",
       "      <th>2015-02-13</th>\n",
       "      <td>2015-02-13</td>\n",
       "      <td>1223.7</td>\n",
       "    </tr>\n",
       "    <tr>\n",
       "      <th>2015-02-12</th>\n",
       "      <td>2015-02-12</td>\n",
       "      <td>1220.7</td>\n",
       "    </tr>\n",
       "    <tr>\n",
       "      <th>2015-02-11</th>\n",
       "      <td>2015-02-11</td>\n",
       "      <td>1219.6</td>\n",
       "    </tr>\n",
       "    <tr>\n",
       "      <th>2015-02-10</th>\n",
       "      <td>2015-02-10</td>\n",
       "      <td>1232.2</td>\n",
       "    </tr>\n",
       "    <tr>\n",
       "      <th>2015-02-09</th>\n",
       "      <td>2015-02-09</td>\n",
       "      <td>1241.5</td>\n",
       "    </tr>\n",
       "  </tbody>\n",
       "</table>\n",
       "</div>"
      ],
      "text/plain": [
       "                 Date   Close\n",
       "Date                         \n",
       "2015-02-13 2015-02-13  1223.7\n",
       "2015-02-12 2015-02-12  1220.7\n",
       "2015-02-11 2015-02-11  1219.6\n",
       "2015-02-10 2015-02-10  1232.2\n",
       "2015-02-09 2015-02-09  1241.5"
      ]
     },
     "execution_count": 167,
     "metadata": {},
     "output_type": "execute_result"
    }
   ],
   "source": [
    "#we see that the date is not in a standard format\n",
    "df['Date'] = pd.to_datetime(df['Date'], format='%d.%m.%Y')\n",
    "df.set_index(df[\"Date\"],inplace=True)\n",
    "print(df.columns)\n",
    "df.head()"
   ]
  },
  {
   "cell_type": "code",
   "execution_count": 168,
   "metadata": {
    "collapsed": false
   },
   "outputs": [
    {
     "data": {
      "text/plain": [
       "<matplotlib.figure.Figure at 0x7fcc3ba616d0>"
      ]
     },
     "metadata": {},
     "output_type": "display_data"
    },
    {
     "data": {
      "image/png": "[encoded data removed]",
      "text/plain": [
       "<matplotlib.figure.Figure at 0x7fcc3b714290>"
      ]
     },
     "metadata": {},
     "output_type": "display_data"
    }
   ],
   "source": [
    "#lets view how the data looks like\n",
    "plt.figure(); df.plot();"
   ]
  },
  {
   "cell_type": "code",
   "execution_count": 169,
   "metadata": {
    "collapsed": false
   },
   "outputs": [
    {
     "data": {
      "image/png": "[encoded data removed]",
      "text/plain": [
       "<matplotlib.figure.Figure at 0x7fcc3c0efb10>"
      ]
     },
     "metadata": {},
     "output_type": "display_data"
    },
    {
     "data": {
      "text/plain": [
       "<matplotlib.figure.Figure at 0x7fcc3b58d750>"
      ]
     },
     "metadata": {},
     "output_type": "display_data"
    }
   ],
   "source": [
    "# Make a histogram of closing prices\n",
    "plt.hist(df['Close'])\n",
    "\n",
    "# Show the plot.\n",
    "plt.figure(); plt.show()"
   ]
  },
  {
   "cell_type": "code",
   "execution_count": 172,
   "metadata": {
    "collapsed": false
   },
   "outputs": [
    {
     "data": {
      "text/plain": [
       "<matplotlib.axes._subplots.AxesSubplot at 0x7fcc3b5bb990>"
      ]
     },
     "execution_count": 172,
     "metadata": {},
     "output_type": "execute_result"
    },
    {
     "data": {
      "image/png": "[encoded data removed]",
      "text/plain": [
       "<matplotlib.figure.Figure at 0x7fcc3b635d10>"
      ]
     },
     "metadata": {},
     "output_type": "display_data"
    }
   ],
   "source": [
    "#we need to sample on a day level to reduce variability\n",
    "df2 = df['Close'].resample('D', how='sum')\n",
    "df2 = pd.DataFrame(df2)\n",
    "df2['Date'] = df2.index\n",
    "df2.set_index(df2[\"Date\"],inplace=True)\n",
    "#maybe some weeks are missing, we need to encode those values with something\n",
    "df2 = df2.fillna(0)\n",
    "df2.plot()"
   ]
  },
  {
   "cell_type": "code",
   "execution_count": 173,
   "metadata": {
    "collapsed": false
   },
   "outputs": [
    {
     "data": {
      "image/png": "[encoded data removed]",
      "text/plain": [
       "<matplotlib.figure.Figure at 0x7fcc3b4dd2d0>"
      ]
     },
     "metadata": {},
     "output_type": "display_data"
    },
    {
     "data": {
      "text/plain": [
       "<matplotlib.figure.Figure at 0x7fcc3b4dd290>"
      ]
     },
     "metadata": {},
     "output_type": "display_data"
    }
   ],
   "source": [
    "# Make a histogram of closing prices on a day level\n",
    "plt.hist(df2['Close'])\n",
    "\n",
    "# Now we see that the values are heavily condensced and that we had some missing values (0s)\n",
    "plt.figure(); plt.show()"
   ]
  },
  {
   "cell_type": "code",
   "execution_count": 174,
   "metadata": {
    "collapsed": false
   },
   "outputs": [
    {
     "data": {
      "text/html": [
       "<div>\n",
       "<table border=\"1\" class=\"dataframe\">\n",
       "  <thead>\n",
       "    <tr style=\"text-align: right;\">\n",
       "      <th></th>\n",
       "      <th>Close</th>\n",
       "    </tr>\n",
       "  </thead>\n",
       "  <tbody>\n",
       "    <tr>\n",
       "      <th>Close</th>\n",
       "      <td>1</td>\n",
       "    </tr>\n",
       "  </tbody>\n",
       "</table>\n",
       "</div>"
      ],
      "text/plain": [
       "       Close\n",
       "Close      1"
      ]
     },
     "execution_count": 174,
     "metadata": {},
     "output_type": "execute_result"
    }
   ],
   "source": [
    "#we see that only Close is being considered for the correlation\n",
    "df2.corr()"
   ]
  },
  {
   "cell_type": "code",
   "execution_count": 175,
   "metadata": {
    "collapsed": false
   },
   "outputs": [
    {
     "data": {
      "text/html": [
       "<div>\n",
       "<table border=\"1\" class=\"dataframe\">\n",
       "  <thead>\n",
       "    <tr style=\"text-align: right;\">\n",
       "      <th></th>\n",
       "      <th>Close</th>\n",
       "      <th>Date</th>\n",
       "    </tr>\n",
       "    <tr>\n",
       "      <th>Date</th>\n",
       "      <th></th>\n",
       "      <th></th>\n",
       "    </tr>\n",
       "  </thead>\n",
       "  <tbody>\n",
       "    <tr>\n",
       "      <th>2006-05-01</th>\n",
       "      <td>657.5</td>\n",
       "      <td>2006-05-01</td>\n",
       "    </tr>\n",
       "    <tr>\n",
       "      <th>2006-05-02</th>\n",
       "      <td>664.7</td>\n",
       "      <td>2006-05-02</td>\n",
       "    </tr>\n",
       "    <tr>\n",
       "      <th>2006-05-03</th>\n",
       "      <td>665.9</td>\n",
       "      <td>2006-05-03</td>\n",
       "    </tr>\n",
       "    <tr>\n",
       "      <th>2006-05-04</th>\n",
       "      <td>0.0</td>\n",
       "      <td>2006-05-04</td>\n",
       "    </tr>\n",
       "    <tr>\n",
       "      <th>2006-05-05</th>\n",
       "      <td>0.0</td>\n",
       "      <td>2006-05-05</td>\n",
       "    </tr>\n",
       "  </tbody>\n",
       "</table>\n",
       "</div>"
      ],
      "text/plain": [
       "            Close       Date\n",
       "Date                        \n",
       "2006-05-01  657.5 2006-05-01\n",
       "2006-05-02  664.7 2006-05-02\n",
       "2006-05-03  665.9 2006-05-03\n",
       "2006-05-04    0.0 2006-05-04\n",
       "2006-05-05    0.0 2006-05-05"
      ]
     },
     "execution_count": 175,
     "metadata": {},
     "output_type": "execute_result"
    }
   ],
   "source": [
    "df2.head()"
   ]
  },
  {
   "cell_type": "code",
   "execution_count": 182,
   "metadata": {
    "collapsed": false
   },
   "outputs": [
    {
     "name": "stdout",
     "output_type": "stream",
     "text": [
      "(1771, 2)\n",
      "(448, 2)\n"
     ]
    }
   ],
   "source": [
    "# Generate the training set.  Set random_state to be able to replicate results.\n",
    "df_train = df.sample(frac=0.8, random_state=1)\n",
    "# Select anything not in the training set and put it in the testing set.\n",
    "df_test = df.loc[~df.index.isin(train.index)]\n",
    "# Print the shapes of both sets.\n",
    "print(df_train.shape)\n",
    "print(df_test.shape)"
   ]
  },
  {
   "cell_type": "code",
   "execution_count": 190,
   "metadata": {
    "collapsed": false
   },
   "outputs": [
    {
     "name": "stdout",
     "output_type": "stream",
     "text": [
      "('Coefficients: \\n', array([ 0.28036801]))\n",
      "Residual sum of squares: 115242.81\n",
      "Variance score: -0.03\n"
     ]
    },
    {
     "data": {
      "image/png": "[encoded data removed]",
      "text/plain": [
       "<matplotlib.figure.Figure at 0x7fcc3b9e3910>"
      ]
     },
     "metadata": {},
     "output_type": "display_data"
    }
   ],
   "source": [
    "X = (df_train.index -  df_train.index[0]).days.reshape(-1, 1)\n",
    "\n",
    "y = df_train['Close'].values\n",
    "\n",
    "X_predict = (df_test.index -  df_test.index[0]).days.reshape(-1, 1)\n",
    "\n",
    "y_predict = df_test['Close'].values\n",
    "\n",
    "#Create linear regression object\n",
    "regr = linear_model.LinearRegression()\n",
    "\n",
    "# Train the model using the training sets\n",
    "regr.fit(X, y)\n",
    "\n",
    "# The coefficients\n",
    "print('Coefficients: \\n', regr.coef_)\n",
    "# The mean square error\n",
    "print(\"Residual sum of squares: %.2f\"\n",
    "      % np.mean((regr.predict(X_predict) - y_predict) ** 2))\n",
    "# Explained variance score: 1 is perfect prediction\n",
    "print('Variance score: %.2f' % regr.score(X_predict, y_predict))\n",
    "\n",
    "# Plot outputs\n",
    "plt.scatter(X_predict, y_predict,  color='black')\n",
    "plt.plot(X_predict, regr.predict(X_predict), color='blue',\n",
    "         linewidth=3)\n",
    "\n",
    "plt.xticks(())\n",
    "plt.yticks(())\n",
    "\n",
    "plt.show()\n"
   ]
  },
  {
   "cell_type": "code",
   "execution_count": 184,
   "metadata": {
    "collapsed": false
   },
   "outputs": [
    {
     "name": "stdout",
     "output_type": "stream",
     "text": [
      "(2569, 2)\n",
      "(642, 2)\n"
     ]
    }
   ],
   "source": [
    "# Import a convenience function to split the sets.\n",
    "from sklearn.cross_validation import train_test_split\n",
    "\n",
    "# Generate the training set.  Set random_state to be able to replicate results.\n",
    "train = df2.sample(frac=0.8, random_state=1)\n",
    "# Select anything not in the training set and put it in the testing set.\n",
    "test = df2.loc[~df2.index.isin(train.index)]\n",
    "# Print the shapes of both sets.\n",
    "print(train.shape)\n",
    "print(test.shape)"
   ]
  },
  {
   "cell_type": "code",
   "execution_count": 191,
   "metadata": {
    "collapsed": false
   },
   "outputs": [
    {
     "name": "stdout",
     "output_type": "stream",
     "text": [
      "('Coefficients: \\n', array([ 0.25996035]))\n",
      "Residual sum of squares: 921024.59\n",
      "Variance score: -1.53\n"
     ]
    },
    {
     "data": {
      "image/png": "[encoded data removed]",
      "text/plain": [
       "<matplotlib.figure.Figure at 0x7fcc3b091510>"
      ]
     },
     "metadata": {},
     "output_type": "display_data"
    }
   ],
   "source": [
    "df2_X = (train.index -  train.index[0]).days.reshape(-1, 1)\n",
    "\n",
    "df2_y = train['Close'].values\n",
    "\n",
    "df2_X_predict = (test.index -  test.index[0]).days.reshape(-1, 1)\n",
    "\n",
    "df2_y_predict = test['Close'].values\n",
    "\n",
    "#Create linear regression object\n",
    "regr = linear_model.LinearRegression()\n",
    "\n",
    "# Train the model using the training sets\n",
    "regr.fit(df2_X, df2_y)\n",
    "\n",
    "# The coefficients\n",
    "print('Coefficients: \\n', regr.coef_)\n",
    "# The mean square error\n",
    "print(\"Residual sum of squares: %.2f\"\n",
    "      % np.mean((regr.predict(df2_X_predict) - df2_y_predict) ** 2))\n",
    "# Explained variance score: 1 is perfect prediction\n",
    "print('Variance score: %.2f' % regr.score(df2_X_predict, df2_y_predict))\n",
    "\n",
    "# Plot outputs\n",
    "plt.scatter(df2_X_predict, df2_y_predict,  color='black')\n",
    "plt.plot(df2_X_predict, regr.predict(df2_X_predict), color='blue',\n",
    "         linewidth=3)\n",
    "\n",
    "plt.xticks(())\n",
    "plt.yticks(())\n",
    "\n",
    "plt.show()"
   ]
  },
  {
   "cell_type": "markdown",
   "metadata": {},
   "source": [
    "We can see that there is a linear relation in our data. However, resampling and adding 0s for the NAs does not help improve the model. Variance and RSS is smaller using the original set"
   ]
  },
  {
   "cell_type": "code",
   "execution_count": 194,
   "metadata": {
    "collapsed": false
   },
   "outputs": [
    {
     "data": {
      "text/plain": [
       "1"
      ]
     },
     "execution_count": 194,
     "metadata": {},
     "output_type": "execute_result"
    }
   ],
   "source": [
    "X_predict.shape[]"
   ]
  },
  {
   "cell_type": "code",
   "execution_count": 202,
   "metadata": {
    "collapsed": false
   },
   "outputs": [
    {
     "name": "stdout",
     "output_type": "stream",
     "text": [
      "training for 600 epochs...\n",
      "training RMSE, epoch 1: 290.652812598\n",
      "training RMSE, epoch 2: 275.356497565\n",
      "training RMSE, epoch 3: 271.671970916\n",
      "training RMSE, epoch 4: 265.176836902\n",
      "training RMSE, epoch 5: 268.638831549\n",
      "training RMSE, epoch 6: 266.142497879\n",
      "training RMSE, epoch 7: 272.428942237\n",
      "training RMSE, epoch 8: 270.479100741\n",
      "training RMSE, epoch 9: 270.364878106\n",
      "training RMSE, epoch 10: 272.978051436\n",
      "training RMSE, epoch 11: 268.76835856\n",
      "training RMSE, epoch 12: 269.671298969\n",
      "training RMSE, epoch 13: 266.274640726\n",
      "training RMSE, epoch 14: 267.587458563\n",
      "training RMSE, epoch 15: 266.925083542\n",
      "training RMSE, epoch 16: 268.845481402\n",
      "training RMSE, epoch 17: 267.861258823\n",
      "training RMSE, epoch 18: 271.572999392\n",
      "training RMSE, epoch 19: 266.108929936\n",
      "training RMSE, epoch 20: 268.098058522\n",
      "training RMSE, epoch 21: 267.636765597\n",
      "training RMSE, epoch 22: 267.520070431\n",
      "training RMSE, epoch 23: 268.482027254\n",
      "training RMSE, epoch 24: 264.50495066\n",
      "training RMSE, epoch 25: 274.434089069\n",
      "training RMSE, epoch 26: 266.561340123\n",
      "training RMSE, epoch 27: 269.733550583\n",
      "training RMSE, epoch 28: 275.129996776\n",
      "training RMSE, epoch 29: 271.138607974\n",
      "training RMSE, epoch 30: 269.38622543\n",
      "training RMSE, epoch 31: 268.177605863\n",
      "training RMSE, epoch 32: 265.940240069\n",
      "training RMSE, epoch 33: 272.39614558\n",
      "training RMSE, epoch 34: 272.47298042\n",
      "training RMSE, epoch 35: 266.635088095\n",
      "training RMSE, epoch 36: 270.63262543\n",
      "training RMSE, epoch 37: 269.454858471\n",
      "training RMSE, epoch 38: 273.306599831\n",
      "training RMSE, epoch 39: 267.874011477\n",
      "training RMSE, epoch 40: 271.43822148\n",
      "training RMSE, epoch 41: 264.883619981\n",
      "training RMSE, epoch 42: 273.486689867\n",
      "training RMSE, epoch 43: 265.67770258\n",
      "training RMSE, epoch 44: 269.612133862\n",
      "training RMSE, epoch 45: 270.710881733\n",
      "training RMSE, epoch 46: 271.363388193\n",
      "training RMSE, epoch 47: 269.940525963\n",
      "training RMSE, epoch 48: 272.716761798\n",
      "training RMSE, epoch 49: 267.575446217\n",
      "training RMSE, epoch 50: 270.792745524\n",
      "training RMSE, epoch 51: 273.86233599\n",
      "training RMSE, epoch 52: 271.534570744\n",
      "training RMSE, epoch 53: 269.840732287\n",
      "training RMSE, epoch 54: 269.790959217\n",
      "training RMSE, epoch 55: 266.562511452\n",
      "training RMSE, epoch 56: 271.469892977\n",
      "training RMSE, epoch 57: 269.833089464\n",
      "training RMSE, epoch 58: 275.827331094\n",
      "training RMSE, epoch 59: 272.919730121\n",
      "training RMSE, epoch 60: 268.228329165\n",
      "training RMSE, epoch 61: 267.672686194\n",
      "training RMSE, epoch 62: 271.433187356\n",
      "training RMSE, epoch 63: 268.53549644\n",
      "training RMSE, epoch 64: 270.463937785\n",
      "training RMSE, epoch 65: 270.116634693\n",
      "training RMSE, epoch 66: 269.877005536\n",
      "training RMSE, epoch 67: 268.28397084\n",
      "training RMSE, epoch 68: 269.31843246\n",
      "training RMSE, epoch 69: 262.463871366\n",
      "training RMSE, epoch 70: 269.925992479\n",
      "training RMSE, epoch 71: 274.778783705\n",
      "training RMSE, epoch 72: 265.24025049\n",
      "training RMSE, epoch 73: 270.771456038\n",
      "training RMSE, epoch 74: 262.151713964\n",
      "training RMSE, epoch 75: 265.432707228\n",
      "training RMSE, epoch 76: 268.332211495\n",
      "training RMSE, epoch 77: 266.992612091\n",
      "training RMSE, epoch 78: 267.936729369\n",
      "training RMSE, epoch 79: 269.784670094\n",
      "training RMSE, epoch 80: 270.894407418\n",
      "training RMSE, epoch 81: 268.77582859\n",
      "training RMSE, epoch 82: 266.065570394\n",
      "training RMSE, epoch 83: 270.96993683\n",
      "training RMSE, epoch 84: 267.959345916\n",
      "training RMSE, epoch 85: 269.082061442\n",
      "training RMSE, epoch 86: 266.755841968\n",
      "training RMSE, epoch 87: 273.877442128\n",
      "training RMSE, epoch 88: 268.495103667\n",
      "training RMSE, epoch 89: 272.616679041\n",
      "training RMSE, epoch 90: 272.383821839\n",
      "training RMSE, epoch 91: 267.805156181\n",
      "training RMSE, epoch 92: 268.37855114\n",
      "training RMSE, epoch 93: 268.197962186\n",
      "training RMSE, epoch 94: 268.321486221\n",
      "training RMSE, epoch 95: 269.74299775\n",
      "training RMSE, epoch 96: 275.031493519\n",
      "training RMSE, epoch 97: 270.603977462\n",
      "training RMSE, epoch 98: 271.62244745\n",
      "training RMSE, epoch 99: 267.182416027\n",
      "training RMSE, epoch 100: 267.187823706\n",
      "training RMSE, epoch 101: 267.528021479\n",
      "training RMSE, epoch 102: 273.595789435\n",
      "training RMSE, epoch 103: 271.636179516\n",
      "training RMSE, epoch 104: 273.23618331\n",
      "training RMSE, epoch 105: 271.011858537\n",
      "training RMSE, epoch 106: 270.95226927\n",
      "training RMSE, epoch 107: 271.201948647\n",
      "training RMSE, epoch 108: 274.245804226\n",
      "training RMSE, epoch 109: 271.107030093\n",
      "training RMSE, epoch 110: 271.667358344\n",
      "training RMSE, epoch 111: 267.465884801\n",
      "training RMSE, epoch 112: 269.626694437\n",
      "training RMSE, epoch 113: 270.482043351\n",
      "training RMSE, epoch 114: 269.552216167\n",
      "training RMSE, epoch 115: 269.30137587\n",
      "training RMSE, epoch 116: 269.117062253\n",
      "training RMSE, epoch 117: 268.604414883\n",
      "training RMSE, epoch 118: 271.43071627\n",
      "training RMSE, epoch 119: 264.96016822\n",
      "training RMSE, epoch 120: 271.568683876\n",
      "training RMSE, epoch 121: 272.576478215\n",
      "training RMSE, epoch 122: 271.391756934\n",
      "training RMSE, epoch 123: 270.027046771\n",
      "training RMSE, epoch 124: 268.432889461\n",
      "training RMSE, epoch 125: 270.446288816\n",
      "training RMSE, epoch 126: 265.488881668\n",
      "training RMSE, epoch 127: 266.033700711\n",
      "training RMSE, epoch 128: 270.310232089\n",
      "training RMSE, epoch 129: 268.485260338\n",
      "training RMSE, epoch 130: 266.18646483\n",
      "training RMSE, epoch 131: 265.461605279\n",
      "training RMSE, epoch 132: 264.159823496\n",
      "training RMSE, epoch 133: 269.656101759\n",
      "training RMSE, epoch 134: 271.925346763\n",
      "training RMSE, epoch 135: 266.505559602\n",
      "training RMSE, epoch 136: 266.923574107\n",
      "training RMSE, epoch 137: 267.152964255\n",
      "training RMSE, epoch 138: 271.015436064\n",
      "training RMSE, epoch 139: 271.217734084\n",
      "training RMSE, epoch 140: 271.100683792\n",
      "training RMSE, epoch 141: 269.01213326\n",
      "training RMSE, epoch 142: 268.92774528\n",
      "training RMSE, epoch 143: 266.215968949\n",
      "training RMSE, epoch 144: 272.183106542\n",
      "training RMSE, epoch 145: 263.018028653\n",
      "training RMSE, epoch 146: 266.57904888\n",
      "training RMSE, epoch 147: 267.334770894\n",
      "training RMSE, epoch 148: 272.853840979\n",
      "training RMSE, epoch 149: 267.923951537\n",
      "training RMSE, epoch 150: 269.302569955\n",
      "training RMSE, epoch 151: 269.494882786\n",
      "training RMSE, epoch 152: 267.890006443\n",
      "training RMSE, epoch 153: 268.481681184\n",
      "training RMSE, epoch 154: 268.837054324\n",
      "training RMSE, epoch 155: 266.822790003\n",
      "training RMSE, epoch 156: 272.534697051\n",
      "training RMSE, epoch 157: 269.282015697\n",
      "training RMSE, epoch 158: 273.438599302\n",
      "training RMSE, epoch 159: 264.299203322\n",
      "training RMSE, epoch 160: 269.315803078\n",
      "training RMSE, epoch 161: 268.953388138\n",
      "training RMSE, epoch 162: 267.900377121\n",
      "training RMSE, epoch 163: 268.973384085\n",
      "training RMSE, epoch 164: 266.191585694\n",
      "training RMSE, epoch 165: 271.90940455\n",
      "training RMSE, epoch 166: 268.472593991\n",
      "training RMSE, epoch 167: 264.94970087\n",
      "training RMSE, epoch 168: 267.227920234\n",
      "training RMSE, epoch 169: 271.443639368\n",
      "training RMSE, epoch 170: 266.330237109\n",
      "training RMSE, epoch 171: 272.507089131\n",
      "training RMSE, epoch 172: 269.749994463\n",
      "training RMSE, epoch 173: 266.736707359\n",
      "training RMSE, epoch 174: 265.843443143\n",
      "training RMSE, epoch 175: 269.353358285\n",
      "training RMSE, epoch 176: 270.34099816\n",
      "training RMSE, epoch 177: 262.999608397\n",
      "training RMSE, epoch 178: 272.778736233\n",
      "training RMSE, epoch 179: 268.993030987\n",
      "training RMSE, epoch 180: 268.810021997\n",
      "training RMSE, epoch 181: 266.742845811\n",
      "training RMSE, epoch 182: 271.150992157\n",
      "training RMSE, epoch 183: 271.734794912\n",
      "training RMSE, epoch 184: 269.990005595\n",
      "training RMSE, epoch 185: 267.850640629\n",
      "training RMSE, epoch 186: 264.3771255\n",
      "training RMSE, epoch 187: 267.396487397\n",
      "training RMSE, epoch 188: 265.042739109\n",
      "training RMSE, epoch 189: 269.508856897\n",
      "training RMSE, epoch 190: 262.510996356\n",
      "training RMSE, epoch 191: 271.619379864\n",
      "training RMSE, epoch 192: 268.657315634\n",
      "training RMSE, epoch 193: 270.469530247\n",
      "training RMSE, epoch 194: 262.456828135\n",
      "training RMSE, epoch 195: 269.760167842\n",
      "training RMSE, epoch 196: 265.44872987\n",
      "training RMSE, epoch 197: 267.132996881\n",
      "training RMSE, epoch 198: 269.45238604\n",
      "training RMSE, epoch 199: 269.686360919\n",
      "training RMSE, epoch 200: 268.193748319\n",
      "training RMSE, epoch 201: 266.548642229\n",
      "training RMSE, epoch 202: 265.955328567\n",
      "training RMSE, epoch 203: 266.828530309\n",
      "training RMSE, epoch 204: 264.777551514\n",
      "training RMSE, epoch 205: 266.835401235\n",
      "training RMSE, epoch 206: 271.141544466\n",
      "training RMSE, epoch 207: 267.116531242\n",
      "training RMSE, epoch 208: 269.160982774\n",
      "training RMSE, epoch 209: 264.788092685\n",
      "training RMSE, epoch 210: 269.429981737\n",
      "training RMSE, epoch 211: 269.673560881\n",
      "training RMSE, epoch 212: 268.785187627\n",
      "training RMSE, epoch 213: 267.335589434\n",
      "training RMSE, epoch 214: 269.110033888\n",
      "training RMSE, epoch 215: 265.961122349\n",
      "training RMSE, epoch 216: 267.678454111\n",
      "training RMSE, epoch 217: 274.777403975\n",
      "training RMSE, epoch 218: 271.02132387\n",
      "training RMSE, epoch 219: 267.320631444\n",
      "training RMSE, epoch 220: 269.834614767\n",
      "training RMSE, epoch 221: 268.655132915\n",
      "training RMSE, epoch 222: 268.331110038\n",
      "training RMSE, epoch 223: 268.244818222\n",
      "training RMSE, epoch 224: 266.92054253\n",
      "training RMSE, epoch 225: 265.614225459\n",
      "training RMSE, epoch 226: 264.381753146\n",
      "training RMSE, epoch 227: 260.476835654\n",
      "training RMSE, epoch 228: 264.333435777\n",
      "training RMSE, epoch 229: 271.863862239\n",
      "training RMSE, epoch 230: 267.349829406\n",
      "training RMSE, epoch 231: 267.120019771\n",
      "training RMSE, epoch 232: 263.625586551\n",
      "training RMSE, epoch 233: 266.329445724\n",
      "training RMSE, epoch 234: 267.438426253\n",
      "training RMSE, epoch 235: 273.019319833\n",
      "training RMSE, epoch 236: 268.585609112\n",
      "training RMSE, epoch 237: 267.869856909\n",
      "training RMSE, epoch 238: 265.613563417\n",
      "training RMSE, epoch 239: 269.889019007\n",
      "training RMSE, epoch 240: 272.183884089\n",
      "training RMSE, epoch 241: 271.642850742\n",
      "training RMSE, epoch 242: 267.540456333\n",
      "training RMSE, epoch 243: 266.716037004\n",
      "training RMSE, epoch 244: 267.461165282\n",
      "training RMSE, epoch 245: 269.380115504\n",
      "training RMSE, epoch 246: 268.072094706\n",
      "training RMSE, epoch 247: 270.895066514\n",
      "training RMSE, epoch 248: 271.828069632\n",
      "training RMSE, epoch 249: 259.650837604\n",
      "training RMSE, epoch 250: 266.39500249\n",
      "training RMSE, epoch 251: 267.551006093\n",
      "training RMSE, epoch 252: 269.008659329\n",
      "training RMSE, epoch 253: 272.327868494\n",
      "training RMSE, epoch 254: 266.21183933\n",
      "training RMSE, epoch 255: 269.012539125\n",
      "training RMSE, epoch 256: 271.248565746\n",
      "training RMSE, epoch 257: 269.539299194\n",
      "training RMSE, epoch 258: 267.877493558\n",
      "training RMSE, epoch 259: 273.46470849\n",
      "training RMSE, epoch 260: 269.370175578\n",
      "training RMSE, epoch 261: 269.406944838\n",
      "training RMSE, epoch 262: 268.505711897\n",
      "training RMSE, epoch 263: 266.564924725\n",
      "training RMSE, epoch 264: 269.313471357\n",
      "training RMSE, epoch 265: 265.620398011\n",
      "training RMSE, epoch 266: 269.429947714\n",
      "training RMSE, epoch 267: 268.963178459\n",
      "training RMSE, epoch 268: 269.544797782\n",
      "training RMSE, epoch 269: 268.721776969\n",
      "training RMSE, epoch 270: 271.463966283\n",
      "training RMSE, epoch 271: 267.424767738\n",
      "training RMSE, epoch 272: 269.384909375\n",
      "training RMSE, epoch 273: 267.798331273\n",
      "training RMSE, epoch 274: 270.379633711\n",
      "training RMSE, epoch 275: 269.106538272\n",
      "training RMSE, epoch 276: 271.07226558\n",
      "training RMSE, epoch 277: 268.997946809\n",
      "training RMSE, epoch 278: 269.941804122\n",
      "training RMSE, epoch 279: 266.246719442\n",
      "training RMSE, epoch 280: 269.737350563\n",
      "training RMSE, epoch 281: 270.685228727\n",
      "training RMSE, epoch 282: 267.986259377\n",
      "training RMSE, epoch 283: 269.773379745\n",
      "training RMSE, epoch 284: 265.016662216\n",
      "training RMSE, epoch 285: 270.326854649\n",
      "training RMSE, epoch 286: 269.574191279\n",
      "training RMSE, epoch 287: 267.494059214\n",
      "training RMSE, epoch 288: 270.038592627\n",
      "training RMSE, epoch 289: 270.039801166\n",
      "training RMSE, epoch 290: 271.25229033\n",
      "training RMSE, epoch 291: 271.034150587\n",
      "training RMSE, epoch 292: 265.020757754\n",
      "training RMSE, epoch 293: 270.575710415\n",
      "training RMSE, epoch 294: 266.426609595\n",
      "training RMSE, epoch 295: 265.758016238\n",
      "training RMSE, epoch 296: 270.24072004\n",
      "training RMSE, epoch 297: 268.766065738\n",
      "training RMSE, epoch 298: 265.285622123\n",
      "training RMSE, epoch 299: 269.187229842\n",
      "training RMSE, epoch 300: 268.922296293\n",
      "training RMSE, epoch 301: 269.080455959\n",
      "training RMSE, epoch 302: 264.3407476\n",
      "training RMSE, epoch 303: 268.174716955\n",
      "training RMSE, epoch 304: 269.470190701\n",
      "training RMSE, epoch 305: 262.764857983\n",
      "training RMSE, epoch 306: 269.27154564\n",
      "training RMSE, epoch 307: 266.674191875\n",
      "training RMSE, epoch 308: 266.907596521\n",
      "training RMSE, epoch 309: 268.808003606\n",
      "training RMSE, epoch 310: 270.009332495\n",
      "training RMSE, epoch 311: 268.333312089\n",
      "training RMSE, epoch 312: 268.226950253\n",
      "training RMSE, epoch 313: 269.409083734\n",
      "training RMSE, epoch 314: 262.859793354\n",
      "training RMSE, epoch 315: 266.83548874\n",
      "training RMSE, epoch 316: 267.159711702\n",
      "training RMSE, epoch 317: 270.365063344\n",
      "training RMSE, epoch 318: 268.993987829\n",
      "training RMSE, epoch 319: 270.945281254\n",
      "training RMSE, epoch 320: 270.226657577\n",
      "training RMSE, epoch 321: 267.27436888\n",
      "training RMSE, epoch 322: 266.316888565\n",
      "training RMSE, epoch 323: 268.426962123\n",
      "training RMSE, epoch 324: 267.609768105\n",
      "training RMSE, epoch 325: 272.347197731\n",
      "training RMSE, epoch 326: 266.219312325\n",
      "training RMSE, epoch 327: 266.07297546\n",
      "training RMSE, epoch 328: 265.856644793\n",
      "training RMSE, epoch 329: 265.790942595\n",
      "training RMSE, epoch 330: 269.92012138\n",
      "training RMSE, epoch 331: 274.229799062\n",
      "training RMSE, epoch 332: 265.06063633\n",
      "training RMSE, epoch 333: 266.922737076\n",
      "training RMSE, epoch 334: 263.804374698\n",
      "training RMSE, epoch 335: 267.080899295\n",
      "training RMSE, epoch 336: 263.429676393\n",
      "training RMSE, epoch 337: 264.05707016\n",
      "training RMSE, epoch 338: 273.532549675\n",
      "training RMSE, epoch 339: 265.74291902\n",
      "training RMSE, epoch 340: 268.835772705\n",
      "training RMSE, epoch 341: 267.915446301\n",
      "training RMSE, epoch 342: 268.869659759\n",
      "training RMSE, epoch 343: 272.258414006\n",
      "training RMSE, epoch 344: 264.903792751\n",
      "training RMSE, epoch 345: 266.038686066\n",
      "training RMSE, epoch 346: 268.793640634\n",
      "training RMSE, epoch 347: 267.394526086\n",
      "training RMSE, epoch 348: 265.465358427\n",
      "training RMSE, epoch 349: 269.688817986\n",
      "training RMSE, epoch 350: 264.003789704\n",
      "training RMSE, epoch 351: 267.595513182\n",
      "training RMSE, epoch 352: 270.368847872\n",
      "training RMSE, epoch 353: 265.722454026\n",
      "training RMSE, epoch 354: 264.743788967\n",
      "training RMSE, epoch 355: 266.881821045\n",
      "training RMSE, epoch 356: 265.002554853\n",
      "training RMSE, epoch 357: 260.008159712\n",
      "training RMSE, epoch 358: 269.224858346\n",
      "training RMSE, epoch 359: 264.664517049\n",
      "training RMSE, epoch 360: 269.514164246\n",
      "training RMSE, epoch 361: 266.016720993\n",
      "training RMSE, epoch 362: 267.884966163\n",
      "training RMSE, epoch 363: 265.673025654\n",
      "training RMSE, epoch 364: 270.789326245\n",
      "training RMSE, epoch 365: 267.972046078\n",
      "training RMSE, epoch 366: 264.898376065\n",
      "training RMSE, epoch 367: 272.19391476\n",
      "training RMSE, epoch 368: 269.462008199\n",
      "training RMSE, epoch 369: 267.635961282\n",
      "training RMSE, epoch 370: 268.084817891\n",
      "training RMSE, epoch 371: 268.717839546\n",
      "training RMSE, epoch 372: 269.259585255\n",
      "training RMSE, epoch 373: 270.378393022\n",
      "training RMSE, epoch 374: 264.666511478\n",
      "training RMSE, epoch 375: 266.85335724\n",
      "training RMSE, epoch 376: 268.49224956\n",
      "training RMSE, epoch 377: 269.048534791\n",
      "training RMSE, epoch 378: 270.816782819\n",
      "training RMSE, epoch 379: 272.603731974\n",
      "training RMSE, epoch 380: 266.266000601\n",
      "training RMSE, epoch 381: 270.080487783\n",
      "training RMSE, epoch 382: 260.567572371\n",
      "training RMSE, epoch 383: 267.534382232\n",
      "training RMSE, epoch 384: 268.15175022\n",
      "training RMSE, epoch 385: 265.864931432\n",
      "training RMSE, epoch 386: 264.585093221\n",
      "training RMSE, epoch 387: 269.605047107\n",
      "training RMSE, epoch 388: 274.804976488\n",
      "training RMSE, epoch 389: 271.213011701\n",
      "training RMSE, epoch 390: 271.921680005\n",
      "training RMSE, epoch 391: 265.252151816\n",
      "training RMSE, epoch 392: 267.216662312\n",
      "training RMSE, epoch 393: 262.922118329\n",
      "training RMSE, epoch 394: 269.795326177\n",
      "training RMSE, epoch 395: 266.828691761\n",
      "training RMSE, epoch 396: 268.106546741\n",
      "training RMSE, epoch 397: 266.634762047\n",
      "training RMSE, epoch 398: 265.332578245\n",
      "training RMSE, epoch 399: 266.241161901\n",
      "training RMSE, epoch 400: 267.790306622\n",
      "training RMSE, epoch 401: 267.69373277\n",
      "training RMSE, epoch 402: 267.509331043\n",
      "training RMSE, epoch 403: 267.53448283\n",
      "training RMSE, epoch 404: 267.560889026\n",
      "training RMSE, epoch 405: 270.51058913\n",
      "training RMSE, epoch 406: 272.09612338\n",
      "training RMSE, epoch 407: 265.772818548\n",
      "training RMSE, epoch 408: 267.063184049\n",
      "training RMSE, epoch 409: 270.04012721\n",
      "training RMSE, epoch 410: 270.425556456\n",
      "training RMSE, epoch 411: 268.113171546\n",
      "training RMSE, epoch 412: 267.137004323\n",
      "training RMSE, epoch 413: 271.544242599\n",
      "training RMSE, epoch 414: 265.285395029\n",
      "training RMSE, epoch 415: 266.460562257\n",
      "training RMSE, epoch 416: 267.166444826\n",
      "training RMSE, epoch 417: 270.851397836\n",
      "training RMSE, epoch 418: 270.266433405\n",
      "training RMSE, epoch 419: 265.833954296\n",
      "training RMSE, epoch 420: 268.659207943\n",
      "training RMSE, epoch 421: 271.217884589\n",
      "training RMSE, epoch 422: 266.642856286\n",
      "training RMSE, epoch 423: 269.095356681\n",
      "training RMSE, epoch 424: 270.08528067\n",
      "training RMSE, epoch 425: 269.292376195\n",
      "training RMSE, epoch 426: 267.259896683\n",
      "training RMSE, epoch 427: 267.787015159\n",
      "training RMSE, epoch 428: 265.852715516\n",
      "training RMSE, epoch 429: 264.216012914\n",
      "training RMSE, epoch 430: 266.624213954\n",
      "training RMSE, epoch 431: 264.930369896\n",
      "training RMSE, epoch 432: 267.146878345\n",
      "training RMSE, epoch 433: 268.671018781\n",
      "training RMSE, epoch 434: 266.966313717\n",
      "training RMSE, epoch 435: 266.936641885\n",
      "training RMSE, epoch 436: 261.242416685\n",
      "training RMSE, epoch 437: 269.621004888\n",
      "training RMSE, epoch 438: 270.589016151\n",
      "training RMSE, epoch 439: 268.080154219\n",
      "training RMSE, epoch 440: 264.264969286\n",
      "training RMSE, epoch 441: 266.749523738\n",
      "training RMSE, epoch 442: 268.264945658\n",
      "training RMSE, epoch 443: 268.056584438\n",
      "training RMSE, epoch 444: 262.016424155\n",
      "training RMSE, epoch 445: 269.460764799\n",
      "training RMSE, epoch 446: 267.595182305\n",
      "training RMSE, epoch 447: 267.858520506\n",
      "training RMSE, epoch 448: 262.912623538\n",
      "training RMSE, epoch 449: 268.428932758\n",
      "training RMSE, epoch 450: 261.43536307\n",
      "training RMSE, epoch 451: 271.19749441\n",
      "training RMSE, epoch 452: 269.875012398\n",
      "training RMSE, epoch 453: 268.211188629\n",
      "training RMSE, epoch 454: 265.206752294\n",
      "training RMSE, epoch 455: 270.186565191\n",
      "training RMSE, epoch 456: 267.063295094\n",
      "training RMSE, epoch 457: 262.723927064\n",
      "training RMSE, epoch 458: 263.576641042\n",
      "training RMSE, epoch 459: 270.151389653\n",
      "training RMSE, epoch 460: 266.463944416\n",
      "training RMSE, epoch 461: 267.989985914\n",
      "training RMSE, epoch 462: 265.518640871\n",
      "training RMSE, epoch 463: 271.746305505\n",
      "training RMSE, epoch 464: 269.351191096\n",
      "training RMSE, epoch 465: 266.302216614\n",
      "training RMSE, epoch 466: 265.301529505\n",
      "training RMSE, epoch 467: 264.308915538\n",
      "training RMSE, epoch 468: 264.152936056\n",
      "training RMSE, epoch 469: 270.939589786\n",
      "training RMSE, epoch 470: 262.228874454\n",
      "training RMSE, epoch 471: 270.088257594\n",
      "training RMSE, epoch 472: 269.895193653\n",
      "training RMSE, epoch 473: 267.88191464\n",
      "training RMSE, epoch 474: 270.207059308\n",
      "training RMSE, epoch 475: 269.44114799\n",
      "training RMSE, epoch 476: 268.161339875\n",
      "training RMSE, epoch 477: 267.612077463\n",
      "training RMSE, epoch 478: 265.739282259\n",
      "training RMSE, epoch 479: 266.576231979\n",
      "training RMSE, epoch 480: 265.806319088\n",
      "training RMSE, epoch 481: 270.21178514\n",
      "training RMSE, epoch 482: 272.007944738\n",
      "training RMSE, epoch 483: 266.99959657\n",
      "training RMSE, epoch 484: 265.267653164\n",
      "training RMSE, epoch 485: 267.190476964\n",
      "training RMSE, epoch 486: 265.342536737\n",
      "training RMSE, epoch 487: 272.321802842\n",
      "training RMSE, epoch 488: 268.31644512\n",
      "training RMSE, epoch 489: 267.365371264\n",
      "training RMSE, epoch 490: 270.764583615\n",
      "training RMSE, epoch 491: 271.988906295\n",
      "training RMSE, epoch 492: 262.814415982\n",
      "training RMSE, epoch 493: 265.684389932\n",
      "training RMSE, epoch 494: 272.895971225\n",
      "training RMSE, epoch 495: 268.646583572\n",
      "training RMSE, epoch 496: 268.274839966\n",
      "training RMSE, epoch 497: 269.411969348\n",
      "training RMSE, epoch 498: 269.910737268\n",
      "training RMSE, epoch 499: 269.143380539\n",
      "training RMSE, epoch 500: 268.732086361\n",
      "training RMSE, epoch 501: 266.063722802\n",
      "training RMSE, epoch 502: 263.972546664\n",
      "training RMSE, epoch 503: 267.314824036\n",
      "training RMSE, epoch 504: 268.830611983\n",
      "training RMSE, epoch 505: 266.013178374\n",
      "training RMSE, epoch 506: 270.12500098\n",
      "training RMSE, epoch 507: 268.705123348\n",
      "training RMSE, epoch 508: 270.676449866\n",
      "training RMSE, epoch 509: 267.270517508\n",
      "training RMSE, epoch 510: 266.903148625\n",
      "training RMSE, epoch 511: 263.931642009\n",
      "training RMSE, epoch 512: 268.582212038\n",
      "training RMSE, epoch 513: 266.012704101\n",
      "training RMSE, epoch 514: 268.685734019\n",
      "training RMSE, epoch 515: 268.114888767\n",
      "training RMSE, epoch 516: 264.658410597\n",
      "training RMSE, epoch 517: 270.702386665\n",
      "training RMSE, epoch 518: 268.978395265\n",
      "training RMSE, epoch 519: 264.792141029\n",
      "training RMSE, epoch 520: 264.034494383\n",
      "training RMSE, epoch 521: 264.642039147\n",
      "training RMSE, epoch 522: 272.337635637\n",
      "training RMSE, epoch 523: 267.285992437\n",
      "training RMSE, epoch 524: 270.155139959\n",
      "training RMSE, epoch 525: 266.756137358\n",
      "training RMSE, epoch 526: 269.379314094\n",
      "training RMSE, epoch 527: 267.722688563\n",
      "training RMSE, epoch 528: 267.112982344\n",
      "training RMSE, epoch 529: 268.356695964\n",
      "training RMSE, epoch 530: 265.41825862\n",
      "training RMSE, epoch 531: 268.836725713\n",
      "training RMSE, epoch 532: 269.40786347\n",
      "training RMSE, epoch 533: 266.903295773\n",
      "training RMSE, epoch 534: 268.659979487\n",
      "training RMSE, epoch 535: 267.021651189\n",
      "training RMSE, epoch 536: 269.248009869\n",
      "training RMSE, epoch 537: 267.991956599\n",
      "training RMSE, epoch 538: 268.941240681\n",
      "training RMSE, epoch 539: 267.451227183\n",
      "training RMSE, epoch 540: 265.454728243\n",
      "training RMSE, epoch 541: 269.320273663\n",
      "training RMSE, epoch 542: 265.163492428\n",
      "training RMSE, epoch 543: 267.981644336\n",
      "training RMSE, epoch 544: 265.919617676\n",
      "training RMSE, epoch 545: 269.160455874\n",
      "training RMSE, epoch 546: 268.795871169\n",
      "training RMSE, epoch 547: 263.784047804\n",
      "training RMSE, epoch 548: 266.648808628\n",
      "training RMSE, epoch 549: 271.251041335\n",
      "training RMSE, epoch 550: 268.446351862\n",
      "training RMSE, epoch 551: 266.037432591\n",
      "training RMSE, epoch 552: 271.549765251\n",
      "training RMSE, epoch 553: 267.584475508\n",
      "training RMSE, epoch 554: 268.210828739\n",
      "training RMSE, epoch 555: 265.732522373\n",
      "training RMSE, epoch 556: 268.687481492\n",
      "training RMSE, epoch 557: 270.122112797\n",
      "training RMSE, epoch 558: 268.554872067\n",
      "training RMSE, epoch 559: 265.974320424\n",
      "training RMSE, epoch 560: 267.384707208\n",
      "training RMSE, epoch 561: 266.331218212\n",
      "training RMSE, epoch 562: 269.126226784\n",
      "training RMSE, epoch 563: 269.149365843\n",
      "training RMSE, epoch 564: 269.988040903\n",
      "training RMSE, epoch 565: 268.639129151\n",
      "training RMSE, epoch 566: 267.999376004\n",
      "training RMSE, epoch 567: 268.616441058\n",
      "training RMSE, epoch 568: 268.623110894\n",
      "training RMSE, epoch 569: 266.555572043\n",
      "training RMSE, epoch 570: 266.772809165\n",
      "training RMSE, epoch 571: 268.679422596\n",
      "training RMSE, epoch 572: 268.329157507\n",
      "training RMSE, epoch 573: 269.865593172\n",
      "training RMSE, epoch 574: 267.668760252\n",
      "training RMSE, epoch 575: 269.6499339\n",
      "training RMSE, epoch 576: 269.70219463\n",
      "training RMSE, epoch 577: 272.655991694\n",
      "training RMSE, epoch 578: 268.404067481\n",
      "training RMSE, epoch 579: 266.235115411\n",
      "training RMSE, epoch 580: 268.076609296\n",
      "training RMSE, epoch 581: 267.545635653\n",
      "training RMSE, epoch 582: 267.200533752\n",
      "training RMSE, epoch 583: 268.945501562\n",
      "training RMSE, epoch 584: 270.719465085\n",
      "training RMSE, epoch 585: 263.296952424\n",
      "training RMSE, epoch 586: 270.508826469\n",
      "training RMSE, epoch 587: 266.769394557\n",
      "training RMSE, epoch 588: 263.321918904\n",
      "training RMSE, epoch 589: 268.126549601\n",
      "training RMSE, epoch 590: 267.996810047\n",
      "training RMSE, epoch 591: 265.250983008\n",
      "training RMSE, epoch 592: 268.600160272\n",
      "training RMSE, epoch 593: 268.57952147\n",
      "training RMSE, epoch 594: 267.366235669\n",
      "training RMSE, epoch 595: 267.294763715\n",
      "training RMSE, epoch 596: 262.997371767\n",
      "training RMSE, epoch 597: 269.65015527\n",
      "training RMSE, epoch 598: 270.322202306\n",
      "training RMSE, epoch 599: 264.374029452\n",
      "training RMSE, epoch 600: 267.268409748\n"
     ]
    }
   ],
   "source": [
    "#train a regression on a neural network with pybrain\n",
    "\n",
    "#train_file = train\n",
    "#validation_file = test\n",
    "output_model_file = 'model.pkl'\n",
    "\n",
    "hidden_size = 100\n",
    "epochs = 600\n",
    "\n",
    "# load data\n",
    "\n",
    "#train = np.loadtxt( train_file, delimiter = ',' )\n",
    "#validation = np.loadtxt( validation_file, delimiter = ',' )\n",
    "#train = np.vstack(( train, validation ))\n",
    "\n",
    "x_train = X\n",
    "y_train = y\n",
    "y_train = y_train.reshape( -1, 1 )\n",
    "\n",
    "input_size = 1 #x_train.shape[0]\n",
    "target_size = 1 #y_train.shape[1]\n",
    "\n",
    "# prepare dataset\n",
    "\n",
    "ds = SDS( input_size, target_size )\n",
    "ds.setField( 'input', x_train )\n",
    "ds.setField( 'target', y_train )\n",
    "\n",
    "# init and train\n",
    "\n",
    "net = buildNetwork( input_size, hidden_size, target_size, bias = True )\n",
    "trainer = BackpropTrainer( net,ds )\n",
    "\n",
    "print \"training for {} epochs...\".format( epochs )\n",
    "\n",
    "for i in range( epochs ):\n",
    "    mse = trainer.train()\n",
    "    rmse = sqrt( mse )\n",
    "    print \"training RMSE, epoch {}: {}\".format( i + 1, rmse )\n",
    "\n",
    "pickle.dump( net, open( output_model_file, 'wb' ))\n"
   ]
  },
  {
   "cell_type": "code",
   "execution_count": 204,
   "metadata": {
    "collapsed": false
   },
   "outputs": [
    {
     "name": "stdout",
     "output_type": "stream",
     "text": [
      "testing RMSE: 393.930497599\n"
     ]
    }
   ],
   "source": [
    "#predict using the test set\n",
    "\n",
    "model_file = 'model.pkl'\n",
    "output_predictions_file = 'predictions.txt'\n",
    "\n",
    "# load model\n",
    "\n",
    "net = pickle.load( open( model_file, 'rb' ))\n",
    "\n",
    "# load data\n",
    "x_test = X_predict\n",
    "y_test = y_predict\n",
    "y_test = y_test.reshape( -1, 1 )\n",
    "\n",
    "# you'll need labels. In case you don't have them...\n",
    "y_test_dummy = np.zeros( y_test.shape )\n",
    "\n",
    "input_size = x_test.shape[1]\n",
    "target_size = y_test.shape[1]\n",
    "\n",
    "assert( net.indim == input_size )\n",
    "assert( net.outdim == target_size )\n",
    "\n",
    "# prepare dataset\n",
    "\n",
    "ds = SDS( input_size, target_size )\n",
    "ds.setField( 'input', x_test )\n",
    "ds.setField( 'target', y_test_dummy )\n",
    "\n",
    "# predict\n",
    "\n",
    "p = net.activateOnDataset( ds )\n",
    "mse = MSE( y_test, p )\n",
    "rmse = sqrt( mse )\n",
    "\n",
    "print \"testing RMSE:\", rmse\n",
    "\n",
    "np.savetxt( output_predictions_file, p, fmt = '%.6f' )\n"
   ]
  },
  {
   "cell_type": "code",
   "execution_count": 206,
   "metadata": {
    "collapsed": false
   },
   "outputs": [
    {
     "name": "stdout",
     "output_type": "stream",
     "text": [
      "train-errors: [  72062.737874  73934.453229  72979.652732  76728.815031  74911.953158  76303.637499  74992.676990  71337.167462  73118.705633  75792.691688  75171.517682  73187.061756  76337.833532  76340.450833  75645.239064  74972.036437  72459.098106  74320.668470  74993.041586  75492.099168  76126.256271  74501.478533  76124.514939  73144.914285  76361.560021  74457.303139  74557.552157  76366.963560  76809.090351  76121.735978  71596.810624  73007.174197  75482.682879  76301.607629  74917.316972  77477.089871  76443.449099  75702.715829  79146.714589  74647.996101  75797.810883  76470.194988  76041.746506  76046.588613  78481.378912  78552.879232  76490.827663  72495.912689  79538.735905  74020.570470  77414.579172  76120.183375  76732.237061  75287.531043  79808.649570  77284.863777  74151.382901  75126.076436  73423.583176  74176.743405  73941.558666  77173.559207  79819.491987  75373.035100  77008.208757  77449.817012  72931.741678  77152.379886  74538.542289  75429.410452  74650.534165  77653.795039  76688.692906  77170.269562  74062.664625  76553.283048  75367.317972  81907.728155  75726.027028  75790.515298  73964.900599  75803.791784  73406.772423  75849.229078  74016.938739  77685.407210  74688.785236  77627.773215  74053.686415  76465.998169  73154.460609  76997.183836  75928.370875  75381.244617  75664.183230  76031.866780  76564.786826  75278.604085  78776.382417  75340.158195  78969.726370  73710.621192  76817.157542  78408.506410  76767.201730  72825.968475  74888.398194  74242.126197  76093.758729  74508.240044  74216.678678  76058.307624  76165.760905  76828.797686  75814.336086  74839.327310  78037.351398  76256.641888  76742.635853  73734.868829  74496.151943  77096.084161  74876.595166  77436.582425  72018.158540  77281.936331  75962.202671  76027.927728  72573.942219  77753.107869  76959.621525  78813.351722  75304.361838  72920.975996  73608.690618  72777.700982  75944.351361  78338.120096  74166.169844  74106.202550  74404.540754  72628.061476  74962.529450  77883.512606  74707.954773  74827.500119  74530.738697  74059.745216  72999.516460  74760.522580  74827.521773  73745.327641  75125.502967  73167.416881  75669.884549  72625.718076  74758.277111  72547.136705  71656.166269  70391.580350  72259.228620  71646.673901  73489.010978  74818.259461  72929.636061  74831.783257  73180.445657  74651.476539  71819.436297  73265.098308  73677.294647  74626.721999  72659.748010  73230.984637  71013.700922  71038.481967  73165.848752  70777.145442  74556.616739  73077.063751  73767.218716  73610.983974  72649.375794  70747.455166  73741.895376  73589.192996  73857.210650  72759.549781  76374.552117  76318.834855  73592.265400  70262.090897  73503.321069  70014.650757  75528.991589  70622.644630  74935.781810  71913.318174  73992.167348  73209.079664  73354.770873  72190.211959  73712.489667  71387.829794  73642.235231  73787.582844  73045.944361  74780.481146  71025.317653  76718.078324  73678.718941  73799.997120  72814.165891  74283.757013  72749.647122  74455.738283  74097.412213  71545.599014  74813.541582  74828.990875  73247.362752  74817.934713  75381.887296  73462.476147  72454.420121  71095.360870  76813.934108  74507.524691  72234.280186  72052.121418  76236.576558  72174.589361  74461.343090  75160.715998  74943.891749  74303.795119  73169.635993  74007.407340  72017.082878  72463.323641  74077.237973  72500.942594  72210.073435  72713.443189  71539.933440  73513.014661  73964.726019  70349.516040  69918.855103  73014.888466  74610.133866  74043.765854  71985.966893  74141.767598  71117.497347  75796.814683  71649.864510  73435.168617  71442.091483  72105.172403  71050.910625  71553.218453  74139.034792  72498.949995  73168.073864  75749.690728  71564.344231  75564.051682  74702.582121  73687.784910  71677.578440  73898.528155  71024.299373  73280.506960  71320.144687  73279.671425  69473.255375  73713.001014  75059.629916  74236.630835  71570.227352  73262.283440  71564.435189  71076.326902  71425.088349  72365.850947  73297.929320  73665.185129  73124.117148  74220.442079  72647.531770  74185.113516  73105.548552  72210.991470  72108.368892  75841.864337  71846.629467  72413.868942  72751.736095  75208.666189  74210.786532  72915.221925  69593.506381  74947.765726  71672.616611  72062.981183  72627.348244  73164.182142  70604.489826  71793.793179  69827.438325  75633.809806  73740.111526  76376.354235  74147.724300  76260.164080  70643.644838  73043.231343  74693.463483  75865.693957  74678.213335  71100.767098  76995.050857  71276.320861  72574.747382  75451.848700  71757.318157  72746.182862  70034.659382  73537.644155  70722.988301  72432.587490  75152.849407  69597.008859  71345.037493  74394.948249  72457.142970  75369.416373  72109.537874  74449.628416  74783.866248  72630.329345  73093.111773  70133.135535  73400.310038  74220.243784  74590.854771  71765.237657  69114.175155  75404.326259  73790.323847  72394.286988  74233.746390  73655.118641  70684.879516  72828.656229  74004.633498  71719.140269  74329.016183  73010.120187  72009.463936  74310.317533  74005.580790  75247.317927  76587.580596  74290.515365  72844.651120  74914.680982  72568.280753  72209.698443  71707.296258  71507.346716  72296.203964  73007.555948  72517.687792  72696.914259  74135.991969  73583.101637  71839.665074  73456.534912  76024.523693  70874.085072  71133.711576  70948.006418  75654.478928  74193.719894  73931.643519  74320.004900  74178.705268  74255.948687  73407.205804  74289.190654  72656.435075  73462.487799  71323.517398  72088.988233  69694.812630  71696.061391  74542.410328  72985.675658  72217.404854  74587.949747  71464.590402  73410.764668  73612.966506  71558.573898  74273.845191  72274.082104  71703.217302  72847.910865  75001.163487  73415.006827  72775.797309  72891.672165  70419.025266  71873.408416  76850.269418  71547.481017  73101.103261  71805.116789  71871.429588  74589.182517  73692.108108  72800.866573  74392.155767  74328.111845  70328.235532  73014.265396  74644.304610  72324.160849  70662.671126  71915.072735  73728.364974  73823.662413  72728.431416  75041.136558  71901.924816  72727.960143  70182.229740  74989.018051  74279.021144  71856.198522  72686.562040  74381.165173  72668.895635  70704.382913  74841.993440  73653.466189  75598.059807  76081.259617  69520.916612  71170.560765  72469.271366  72400.803623  73500.455502  73523.189499  72381.109520  74920.254211  74522.576751  74739.900321  70865.663590  70376.964959  71422.374630  71408.302676  73139.316905  71724.490373  72853.782482  74115.367306  72507.357059  77147.105628  73999.914466  71816.097889  72863.826792  73392.350473  73289.809460  71870.417412  75100.668853  73389.955526  74430.024543  72010.905863  76287.396382  71677.035700  73416.960328  74849.853530  71841.936838  72469.219892  71785.322593  72253.517625  75377.598278  73966.317101  75349.289149  73817.839791  72044.135810  72413.431542  72562.909366  73592.862927  71624.126618  76405.225147  72835.354083  73590.308460  73398.242430  72328.217074  72318.698262  71219.240502  70567.773746  71857.450150  70324.437138  71653.083187  73471.458856  72130.599700  71643.496339  71639.791196  72683.580483  70905.328871  75686.291151  73602.933366  70212.593914  73794.551064  72572.731682  72575.554370  72557.251495  74698.437655  74308.143119  73582.389192  71913.931907  75077.183147  76902.249006  72955.241576  72144.282352  70878.199973  74594.795555  71731.342770  71698.257923  74013.417128  72178.798855  72361.367251  75901.179219  73244.615245  72195.060926  73674.823199  69923.859549  74413.286412  69756.547324  73646.273919  73086.091450  72819.006794  73025.244816  75835.464837  73384.635432  72729.387423  71945.943302  75133.008804  74032.104750  74396.382896  73360.749597  75049.600813  70721.128775  71817.865862  74927.781167  73978.031997  74444.977613  73062.481439  75328.106512  71694.862290  73772.053808  70237.044970  75068.305395  73934.834162  75728.101055  72775.296271  71574.783158  68992.280289  72604.676307  70259.649615  73431.030914  74560.814966  73195.692393  73586.988591  72717.152579  74965.190321  72438.106649  72156.087732  72524.051602  73246.020180  71852.111052  73282.785231  74915.549591  71992.520649  74375.961851  74681.282041  74440.144831  70283.458380  74312.931268  74243.880950  72919.142940  72799.401791  70472.441894  75893.500232  73346.623604  72425.379106  73535.867912  71738.613176  70793.576199  72479.147816  73250.908499  71057.646332  72697.621214  73252.292412  71396.499995  74457.017192  70955.820816  71813.609432  71494.920242  71764.553624  69587.883769  71935.876891  73350.286459  70419.533939  72663.967493  72141.638476  71379.908685  69682.436571  72778.941697  71791.679781  77035.961896  72436.029337  74212.865312  74591.521570  75481.792081  73616.433852  72293.097304  70298.014594  73615.685710  72150.648729  71488.894994  74186.159162  73108.100457  74594.482401  71992.482186  73769.667685  71209.406987  70632.696203  74249.771791  72765.857458  75199.109141  71820.107187  73187.537804  74279.716154  73144.522695  74244.139330  71866.401449  75659.846754  70990.156362  70386.095674  74936.313714  74991.752042  74137.969720  75160.797877  70437.549680  73756.343065  73462.018780  78032.063273  73221.513155  72304.658225  75113.109146  73648.449388  73839.245968  71618.741884  72944.885379  73081.499028  73072.548038  72333.087867  73846.945042  71663.511100  74002.621087  74394.566777  72699.002658  71983.431760  72005.892219  72781.976186  72668.709058  72971.992762  74041.678822  73524.250173  70432.281720  73240.887388  70973.113758  72454.421077  76845.002888  74298.532715  74159.504615  70965.488298  73781.281489  71657.661609  73504.878034  71033.312078  73564.036731  72485.117103  69916.282554  73247.807695  71828.241315  72796.638978  71953.638335  73407.289095  73862.046675  73544.465523  72684.021818  72738.923654  71936.290218  72575.383583  70341.543021  74307.373968  70720.763165  72272.306081  68407.806299  72393.126393  75134.495219  71790.743265  72213.586033  73887.467871  69834.103972  72850.976135  70420.562940  73676.955793  72869.684065  72085.954942  71060.360251  71578.098703  71466.623588  70123.503366  69003.825522  72794.350564  70430.550685  72226.194634  72928.595263  72833.468696  71419.274283  70646.603973  72520.893326  73933.106525  72084.948072  70184.666852  68791.534804  70678.713127  70650.435218  71257.325137  69798.202401  69388.122004  73376.149085  76221.257371  69182.115207  73315.156831  70948.558652  71158.508860  72071.817234  71581.555148  68541.111363  74496.664292  71035.156153  71449.182484  71688.236251  69370.817172  71789.636266  71218.538175  70227.639563  72391.951582  71380.763116  71400.566930  71464.078213  73006.769831  69218.098296  74209.033408  73418.559043  68339.147663  71466.906088  72679.651629  68650.996438  70885.594846  70241.869808  74293.366176  70888.038395  71584.492283  71765.323243  71166.779957  73551.802215  73678.084076  71303.013578  72010.932530  70443.622070  72543.426281  73124.261101  74002.123861  72177.377202  70446.487618  69477.844524  72109.890550  70237.045102  71643.818274  74378.520582  71930.031466  69531.631663  70451.723613  73398.965053  74219.917543  71731.531712  70805.995493  70824.255146  70619.594686  73635.558172  71378.207132  71803.245012  70521.746897  71561.852096  71685.492714  71936.745449  71038.767869  70325.444556  69216.608944  71176.776894  71862.408031  71894.846838  70609.513369  70148.410466  72515.035984  69644.338973  70246.626846  70906.105020  70117.727552  70304.289249  70911.344911  69702.762013  73925.406057  71316.369198  70262.533372  73421.639121  70977.366579  70387.915430  70862.431284  72185.903203  70597.348242  70814.983639  70879.496754  72736.838677  68780.451257  74091.507287  70278.970983  71231.489484  69126.959135  70378.435799  69599.424841  71941.165155  73852.111577  71184.167324  70425.505899  68768.523124  74589.115285  70056.167241  70954.481700  71484.387746  71804.713407  70816.347592  72109.655475  71534.087255  70008.448836  69660.786697  75340.051163  73214.147889  70103.882333  71302.737510  71157.751935  71011.317410  71389.512633  68240.263053  70490.110416  72305.594405  73068.700228  71224.202308  73029.240419  74553.119724  69705.622350  68176.231199  68872.463116  67456.915984  74093.773438  73762.290760  71770.883142  74094.233244  71127.636121  71934.374909  68992.290403  72613.137863  74466.784447  69593.489382  70954.645586  70023.714697  69381.843772  71002.222497  69989.135191  70742.159727  72865.032499  72862.927350  72326.889794  70790.358702  73250.281666  69482.562271  68102.670711  70028.427222  72183.242090  69414.103037  70674.895696  71884.174117  72214.219861  72698.072593  71492.674193  70716.051095  72940.849101  70200.138809  71841.419518  72224.283503  69220.451601  74271.994655  71034.547418  71658.244350  69529.835383  73664.273801  71964.367767  74240.676210  72665.781700  73403.870252  71754.444384  73116.713141  72270.239239  71628.882230  71760.259236  73701.137109  70224.822941  71655.053544  74116.999805  71389.660718  70146.930471  71133.109517  70858.535937  72787.490133  70208.250546  72191.411912  71109.488223  70858.042866  72154.108367  72642.451615  73655.075720  69443.211924  71199.137986  71836.146699  73236.514123  69538.415353  71262.598494  69850.912966  71111.486692  69709.581220  70893.269915  70854.143940  67731.845763  71136.050841  73014.117629  70532.076336  68451.263976  73714.076189  71680.297004  72891.909258  69173.372219  71835.555608  73143.750443  71288.955642  71413.410767  71594.776390  72649.086256  71273.093763  71368.691207  72360.382541  72283.579036  71909.610463  70772.348312  69969.604801  71022.699345  71033.295188  70539.673088  70662.713114  69767.187351  72188.069523  74543.755710  74155.447582  74162.703410  69533.967904  72320.984638  72519.582887  67465.433888  71285.640998  71722.167883  69970.620640  74100.207833  75859.522117  48267.459011]\n",
      "valid-errors: [  747277.470932  55411.311080  56740.970360  90416.741616  63995.289120  69361.778949  50906.052109  65762.131926  172739.478653  61536.261414  72898.410030  67342.374863  62056.141170  65253.773389  97024.016366  82419.324140  49361.606998  59185.097883  148380.756248  49264.371516  99424.063416  81758.247931  54778.290273  92521.329303  136287.037654  145699.600300  71289.993621  73982.633792  73163.485026  50008.172281  57136.099283  122477.390642  49591.191227  63196.478307  49702.119962  151887.145525  55995.503014  58522.826466  76235.760690  85017.573917  65647.210671  110737.560575  50829.005346  49351.981936  55689.133238  86212.313541  133588.002019  50294.426644  63349.589243  96044.509838  53433.592064  149726.346232  85074.404616  53482.167116  62962.233947  102913.557976  58608.740401  174551.262011  101944.849842  63898.732826  80646.339800  92420.671481  65640.474702  64501.100639  56481.370794  50464.380554  69465.598422  50018.440621  50908.227762  97774.291957  49444.402011  105313.409480  79454.134871  54516.173073  79413.421092  89087.901666  49684.163046  50210.782270  74687.454150  49913.590853  140557.543807  64155.816296  66828.695735  50620.835280  84778.730788  53065.877855  65744.314691  64779.792841  140036.448515  161083.884111  69706.287239  102867.332783  87238.093904  97089.025528  131781.126993  69864.299561  52112.417320  91954.725922  87454.175120  50250.963580  70722.043308  155212.334849  101446.843301  196211.988005  49741.356211  75802.162077  51808.403268  120131.929816  64820.094899  73323.705391  125736.290773  49763.446530  49338.134476  49386.112702  66771.784601  57940.469825  59489.667117  146217.530898  51251.977683  69501.191684  122667.460013  60852.583476  100903.396982  52561.211123  83203.511176  59672.500027  105908.392765  75397.529690  52343.121008  59181.030383  65903.645873  67007.612746  119511.160314  89966.839364  122506.230437  57728.502432  80766.632345  56868.216460  57809.187870  49845.170935  52567.811869  73239.825295  104216.387684  79092.758317  93326.943516  49751.344424  92946.280297  62743.845819  90251.443966  78025.633881  150709.533685  75213.428514  50128.006277  99814.952286  64423.693211  76845.694308  97477.248426  50769.904427  78281.702079  82642.350234  84692.942668  53415.792285  69408.515661  76509.244918  84155.000388  98922.438905  143759.271356  107017.268807  97902.267323  77218.007244  56896.841576  86236.122665  62494.267002  104188.584815  117257.979656  51138.872209  95318.916841  51875.130544  60741.561759  61646.785727  54147.905150  66385.677223  78521.761565  149751.996479  50806.525591  55167.274016  54917.163348  56638.223221  51555.004068  88576.278710  82482.564289  56570.653491  143340.349877  86432.794247  103931.343661  62113.416431  51219.240125  85560.947526  65433.518320  61066.751824  101011.017422  77489.241928  55753.864927  58557.824637  67635.678850  62204.398323  50523.668767  81572.717924  56600.485291  57279.778454  72117.459635  58617.754138  57388.471879  60882.682330  83875.979061  79627.703188  49582.956551  63585.321808  84121.883495  49493.865502  55940.666808  96227.986599  59509.645814  55721.886533  50106.368811  94022.151296  70477.434190  64217.519338  57347.953476  60055.085196  97343.154294  64097.063237  83333.716366  50819.465079  70073.190610  56704.065737  55941.931936  53649.619192  76897.455997  57035.056115  65397.757515  85422.485788  123266.262732  130179.706297  51311.826192  54443.732125  139668.667915  55240.210438  156868.351320  119113.805539  50971.545191  67743.896305  65874.254930  49519.836590  49624.532453  52980.170535  165491.124689  63527.049071  50431.892756  64470.653867  83664.417018  85474.860601  217511.927210  49727.034621  52315.494178  68770.753952  68889.172603  52719.857317  60002.003152  56312.237185  51439.440996  115147.610951  104328.157531  53164.963924  69948.381957  94074.862251  93421.370966  55135.433618  69109.747537  75846.310625  59531.104559  59933.119926  117825.338295  109210.403613  72677.315869  127657.834527  54615.698120  58489.288894  60147.659135  58261.420112  147418.987960  146422.294124  98448.104885  145111.246741  50020.118063  50235.271720  99345.595035  99130.680811  86109.689866  67061.300533  63868.182120  180352.565958  62135.323814  72654.144845  78705.208840  63330.315300  49529.634198  61402.012203  60484.521860  63354.098525  73052.958073  72889.463166  74735.328706  81090.506491  55716.233977  51199.903508  59387.050528  57538.613559  120111.768265  102590.039834  57426.637221  54535.117662  50654.652286  54492.762064  52480.439878  102812.505858  50674.813164  96809.019168  49340.691411  49395.311484  55655.417701  49926.626258  160709.802972  51962.513965  53232.621061  60102.265291  50989.812940  49898.144547  49649.263567  54459.671237  49833.428627  136733.553970  50691.971475  53539.347430  65103.087171  54447.943057  50215.943022  56055.825068  63359.779422  69604.342754  58059.329915  58257.975288  89253.807569  51023.137246  62939.820142  51781.393294  55732.013460  50925.830862  122625.750356  56351.701182  60968.648252  86025.289560  54695.518636  50184.283895  49975.679068  90687.966336  51425.670999  49855.024447  114738.699344  50513.024443  75779.732180  89776.884707  98602.126249  53930.010662  128017.533567  88945.239664  119231.876525  82838.772522  61693.397807  85946.556313  149229.119527  53507.489554  52901.662659  61648.452053  90742.794891  121123.867793  89829.286955  53630.607188  104394.533874  75022.397501  75008.086961  106699.763444  49558.994391  49446.997920  59008.500358  123961.581054  86619.220715  83883.226357  68401.126646  53569.127526  109126.847607  64282.054287  140544.262740  106747.286573  50405.864241  79960.895881  97392.931080  50058.134372  50774.249642  110054.499045  51337.584048  58220.585514  58238.994519  93852.531342  56538.589588  71009.810376  49561.249838  59562.181271  56066.837291  55864.119382  97677.597840  63364.667460  55791.530772  49651.121183  55634.766970  133416.992962  124900.191646  54699.140147  49900.682414  50628.010837  62171.265352  164811.418307  61726.151371  71589.849839  50202.686794  117073.496631  86231.029638  83768.662379  68648.500994  118895.785060  107995.114917  108894.755597  88490.378783  50021.874981  79176.579447  51786.496194  63635.476439  53208.686253  68700.560098  149828.408604  66654.079158  77740.099046  49504.745345  91799.806263  80490.424937  137437.186363  65165.790490  107759.306094  54691.522164  102395.412373  161141.215306  52053.826249  58133.733871  55467.631820  65159.422963  85256.809554  87638.389335  53713.014109  62823.243884  51911.913937  85423.225693  88475.366079  77039.154949  90911.811977  78582.521119  54010.774876  53134.052963  55537.484152  66481.737996  52785.464571  121489.707821  53941.571644  65641.731154  55132.775869  99805.627417  182764.534343  49658.218271  101625.368968  69742.774826  64425.562218  50055.017429  61485.627053  66448.212129  52407.749762  69923.340155  53125.416381  51388.156993  74494.984731  66316.574603  67560.831315  49806.477327  50126.111936  69020.121446  92113.790083  57618.902346  61780.647026  50913.849084  100678.844039  51468.452314  137886.398403  51445.091828  61147.908428  74743.497106  85894.187566  51077.931083  77489.035655  57588.759077  53320.831930  62943.283431  50217.284381  51003.070427  86109.803227  153334.719182  49869.134987  58244.784963  100520.876946  52702.851027  67294.687947  52114.141197  52767.762199  52956.444786  54820.058477  51751.742734  50198.056709  55582.585669  50829.631091  93351.304075  52427.227029  66969.886037  59522.572063  83613.417645  59159.072397  56387.049964  58029.809699  78478.154345  63757.343431  63098.809867  57187.701443  133393.363531  71832.473044  63927.486125  137160.827124  60673.696278  78476.193739  111152.963774  53422.558808  110019.114763  68224.433219  62617.152169  61729.041263  100899.974705  49621.480699  111768.470071  65893.659981  111834.235549  92640.370403  52586.719148  70616.800330  146922.942421  79984.193597  51620.269758  49760.192993  72838.322674  89389.088670  49997.585480  72265.688503  72410.060244  59229.171555  101897.167008  51746.636675  63547.658093  50878.249537  96159.012373  58916.189405  73577.439170  49417.517669  60618.290913  54579.932840  64680.194167  55968.186408  59758.724384  73848.994934  91262.388090  51100.869479  88608.921391  51309.899921  95739.000217  78385.887459  52602.076708  74244.324903  55587.856740  72799.986941  92177.642325  84559.315234  84360.548915  52744.248765  59110.798565  95871.336372  51648.853836  81172.212563  66638.889738  73500.432643  55615.917674  55420.393830  50514.533315  79579.406343  150252.573467  51442.133289  50211.015794  103634.808170  73468.519225  104064.705555  95941.054326  85666.661454  52472.764030  84065.087615  95803.803420  106047.845554  75606.826895  82644.563318  55831.846699  52389.710594  50714.498672  71860.071159  77530.442296  139479.497426  59677.224286  49268.819353  60830.077998  70105.117587  82871.328224  61957.438049  156244.454002  126415.845952  75100.055330  52783.671212  116561.951673  56236.104452  109647.961305  94759.046487  79537.118866  53732.221242  50492.497736  55198.299470  64812.454026  80422.927487  50551.852035  67511.405431  89764.151398  59802.971884  121069.112332  54456.984578  50639.420594  58413.950110  152323.920043  84231.079533  77400.142621  153401.725660  59982.470590  56866.553091  51637.967963  63683.969931  50271.836749  52426.824259  81273.250871  76674.911245  143206.925591  52003.055693  53526.159419  97961.134196  49535.003630  109913.606847  84006.654892  67309.747672  51528.928976  49850.107710  101895.920455  72276.503628  64163.087499  53497.847566  50198.217162  55743.830762  54445.466260  50652.950725  66260.423972  58248.152415  54090.038704  66761.968975  56418.338916  56722.401917  56100.633730  138725.605490  68495.650612  99878.836258  83087.205293  53865.871377  63474.460300  61772.994956  78434.233255  90569.810951  88047.482601  52333.552256  64567.197654  61367.440703  53970.785248  81771.600398  102367.098050  106908.484183  73566.989566  52593.770096  82298.851100  59364.848689  58337.361492  57535.207495  55315.546016  49313.734216  92771.162714  50561.537848  70587.305011  71058.254240  57771.600351  49452.535513  61437.908155  58326.816974  80408.371234  59118.206566  59434.055327  93329.233368  106518.661523  57744.988393  84600.988751  51070.432955  169168.573969  50031.707257  70264.742600  101128.540242  51106.800132  51940.858572  127839.809961  89702.558242  53403.945354  70352.732200  86367.897275  105247.011213  119248.843730  75229.909459  208932.448113  51296.469331  136166.965693  82640.929153  51423.674553  71408.996055  117914.521363  111604.850012  94955.683872  51041.223879  58665.202813  80242.416562  101168.875196  78110.892954  56511.680308  83861.450628  52217.984099  89652.351599  65730.329905  60936.631457  64874.789603  72743.349234  49613.384277  50396.420455  63507.246122  65838.713946  79047.204814  51858.970836  53540.201682  57359.080384  52018.945969  118140.595310  64170.223927  53024.712982  50324.634999  148553.529483  57152.814953  94901.769933  82146.799867  101690.327857  66612.044284  94172.643491  72148.976249  82450.311205  50160.594839  142317.334115  126272.692468  57627.328434  50429.185406  54489.678801  69532.661931  58541.661986  148759.656635  77137.867477  61108.161904  59176.274379  162995.839688  78946.753727  95359.098119  52028.217213  93203.263305  67226.826762  53790.745461  50707.498038  50867.885579  130935.684198  63220.392416  52145.962882  92855.727109  53408.078552  105778.641960  73431.433129  62248.810724  50904.486459  60856.086494  61935.937621  105855.483847  56448.286062  53242.782404  51154.816998  90620.608121  64205.645902  50481.175713  70238.816262  75804.165983  74059.451123  113312.461787  76190.386631  78148.412560  50257.484687  133334.211528  54676.399064  69318.729817  162171.557442  100448.374471  77153.732842  114045.122335  52462.036264  95065.320731  52673.428960  104810.065202  60976.681615  59806.359847  56384.384537  66523.229087  76859.755105  82753.408814  73433.337154  61744.143311  55555.443166  52712.825092  92251.002415  57176.114688  71998.768009  62070.109923  53017.232415  76880.847617  105338.967065  58708.147774  56515.767401  103289.449704  75280.112161  100814.385929  55631.485533  62395.423369  93144.503437  68997.508568  49634.545500  52452.173587  92808.509168  136048.447866  95902.254397  63565.728102  63568.770808  72781.067512  64025.630052  62413.130690  57516.417018  55961.086717  64712.061585  49854.916481  53798.579132  65432.292502  166297.505428  56653.315739  59721.717986  112591.107625  94584.643849  95057.915553  55097.835417  64297.957249  51174.317054  51236.426963  83522.139299  73121.408157  111491.054134  57147.751242  80941.248908  85396.505278  51156.248795  54455.519336  58276.532597  54628.408040  71056.573570  61386.668076  87706.465733  72636.673706  107775.639075  122914.075114  88712.980158  123232.637427  52206.963431  58790.571187  50482.494956  51249.031794  57711.379855  64705.892499  72572.682447  57863.413249  103580.296242  72477.517510  50829.580223  58744.660983  52505.993821  73164.283870  51032.478125  80909.595401  97926.031911  50581.915771  85521.834492  75469.475145  53349.823737  93202.065248  60686.342539  50403.751643  53723.427157  67939.880431  81773.229000  59158.610678  144508.319215  50465.283275  52981.375871  88177.536610  113636.384351  85097.556407  59110.403742  85987.304423  52719.262178  52470.442358  97697.679872  92708.424911  61842.211040  83755.293585  62070.532062  65692.814798  54158.402962  87580.335251  119492.705214  66622.177445  70083.916615  78542.040895  106703.872711  51053.698734  92977.138756  100064.309246  52698.314833  51267.224345  54327.118168  58009.573462  69103.576738  80965.552259  144551.210841  84334.353724  49907.717636  50963.498698  87146.775802  80646.634860  116067.425654  93761.508030  142686.297186  56075.811839  67959.296960  82831.144632  64835.790317  88398.665725  81466.468843]\n"
     ]
    }
   ],
   "source": [
    "#identify the number of epochs required\n",
    "\n",
    "output_model_file = 'model_val.pkl'\n",
    "\n",
    "hidden_size = 100\n",
    "epochs = 1000\n",
    "continue_epochs = 10\n",
    "validation_proportion = 0.15\n",
    "\n",
    "# prepare dataset\n",
    "\n",
    "ds = SDS( input_size, target_size )\n",
    "ds.setField( 'input', x_train )\n",
    "ds.setField( 'target', y_train )\n",
    "\n",
    "# init and train\n",
    "\n",
    "net = buildNetwork( input_size, hidden_size, target_size, bias= True )\n",
    "trainer = BackpropTrainer( net,ds )\n",
    "\n",
    "train_mse, validation_mse = trainer.trainUntilConvergence( \n",
    "    verbose = True, validationProportion = validation_proportion, \n",
    "    maxEpochs = epochs, continueEpochs = continue_epochs )\n",
    "\n",
    "pickle.dump( net, open( output_model_file, 'wb' ))\n"
   ]
  },
  {
   "cell_type": "code",
   "execution_count": null,
   "metadata": {
    "collapsed": true
   },
   "outputs": [],
   "source": []
  }
 ],
 "metadata": {
  "kernelspec": {
   "display_name": "Python 2",
   "language": "python",
   "name": "python2"
  },
  "language_info": {
   "codemirror_mode": {
    "name": "ipython",
    "version": 2
   },
   "file_extension": ".py",
   "mimetype": "text/x-python",
   "name": "python",
   "nbconvert_exporter": "python",
   "pygments_lexer": "ipython2",
   "version": "2.7.10"
  }
 },
 "nbformat": 4,
 "nbformat_minor": 0
}
