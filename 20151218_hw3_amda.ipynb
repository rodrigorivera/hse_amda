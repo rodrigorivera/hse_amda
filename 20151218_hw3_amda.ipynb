{
 "cells": [
  {
   "cell_type": "markdown",
   "metadata": {},
   "source": [
    "# Homework 3\n",
    "## Rodrigo Rivera"
   ]
  },
  {
   "cell_type": "markdown",
   "metadata": {},
   "source": [
    "1. Estimate the PageRank for the given Web (see the Graph) with finite number of iterations using your own developed program:\n",
    "    \n",
    "    With no taxation\n",
    "    \n",
    "    Β=0.9\n",
    "2. Define the criteria of stopping (e.g. ε<0.001)\n",
    "3. Report should contain:\n",
    "    The structure of the Web (Graph)\n",
    "    Description of code / script and etc.\n",
    "4. Conclusions"
   ]
  },
  {
   "cell_type": "code",
   "execution_count": 2,
   "metadata": {
    "collapsed": true
   },
   "outputs": [],
   "source": [
    "from array import array\n",
    "from ctypes import c_double,pointer\n",
    "import fileinput\n",
    "import sys\n",
    "import time\n",
    "import os"
   ]
  },
  {
   "cell_type": "code",
   "execution_count": 4,
   "metadata": {
    "collapsed": true
   },
   "outputs": [],
   "source": [
    "def readGraph(lines):\n",
    "    g = {} # node number -> out-link counts \n",
    "    inG = {} # node number -> set of in-link node numbers\n",
    "    nodes = set() # all nodes\n",
    "    for line in lines:\n",
    "        #line = line.strip()\n",
    "        if line.startswith('#'):\n",
    "            continue\n",
    "        l = line.split()\n",
    "        k = int(l[0])\n",
    "        v = int(l[-1])\n",
    "        g.setdefault(k, set()).add(v)\n",
    "        #inG.setdefault(v, set()).add(k)\n",
    "        nodes.add(k)\n",
    "        nodes.add(v)\n",
    "    return g, inG, sorted(nodes)"
   ]
  },
  {
   "cell_type": "code",
   "execution_count": 9,
   "metadata": {
    "collapsed": true
   },
   "outputs": [],
   "source": [
    "def diff_vector(l1, l2):\n",
    "    s = 0.0\n",
    "    size = len(l1)\n",
    "    for i in range(0,size-1):\n",
    "        s += abs(l1[i] - l2[i])\n",
    "    return s"
   ]
  },
  {
   "cell_type": "code",
   "execution_count": 6,
   "metadata": {
    "collapsed": true
   },
   "outputs": [],
   "source": [
    "def transformGraph(nodes, inG, g):\n",
    "    idxInG = {} # instead of storing node number, store index of node -> index of in-nodexs\n",
    "    idxG = {}\n",
    "    idx = dict(zip(nodes, range(len(nodes))))\n",
    "    for node, inNodes in inG.iteritems():\n",
    "        idxInG[idx[node]] = set([idx[inNode] for inNode in inNodes])\n",
    "    for node, outNodes in g.iteritems():\n",
    "        idxG[idx[node]] = set([idx[outNode] for outNode in outNodes])\n",
    "    return idxInG, idxG"
   ]
  },
  {
   "cell_type": "code",
   "execution_count": 11,
   "metadata": {
    "collapsed": true
   },
   "outputs": [],
   "source": [
    "def transformToArray(nodes, inG, g):\n",
    "    a = array('l')\n",
    "    idx = dict(zip(nodes, range(len(nodes))))\n",
    "    idxInG, idxG = transformGraph(nodes, inG, g)\n",
    "    size = len(nodes)\n",
    "    for i in range(0, size-1): #[<index>, <size>, <out node list>]\n",
    "        if i in idxG:\n",
    "            a.append(i) \n",
    "            outNodes = idxG[i]\n",
    "            a.append(len(outNodes))\n",
    "            a.extend(outNodes)\n",
    "    return idxInG, a"
   ]
  },
  {
   "cell_type": "code",
   "execution_count": 8,
   "metadata": {
    "collapsed": true
   },
   "outputs": [],
   "source": [
    "def fillVector(r, num):\n",
    "    size = len(r)\n",
    "    for i in range(0,size):\n",
    "        r[i] = num"
   ]
  },
  {
   "cell_type": "code",
   "execution_count": 12,
   "metadata": {
    "collapsed": true
   },
   "outputs": [],
   "source": [
    "def forEachElement(r, func):\n",
    "    size = len(r)\n",
    "    for i in range(0, size-1):\n",
    "        r[i] = func(r[i], i)"
   ]
  },
  {
   "cell_type": "code",
   "execution_count": 15,
   "metadata": {
    "collapsed": true
   },
   "outputs": [],
   "source": [
    "def pageRank(nodes, g, inG, beta=0.9, e=1e-8, n=1e2):\n",
    "    r = array('d',[1.0/len(nodes)] * len(nodes))\n",
    "    r_ = array('d', r)\n",
    "    size = len(nodes)\n",
    "    gSize = len(g)\n",
    "    diff = e + 1\n",
    "    t = 1\n",
    "    while diff > e and (n == -1 or t < n):\n",
    "        sum_r = 0.0\n",
    "        # fill in 0s\n",
    "        fillVector(r_, 0.0)\n",
    "        # start iteration\n",
    "        cursor = 0\n",
    "        while cursor < gSize:\n",
    "            i = g[cursor]\n",
    "            cursor += 1\n",
    "            row_size = g[cursor]\n",
    "            cursor += 1\n",
    "            row_end = cursor + row_size\n",
    "            score_share = r[i] / row_size\n",
    "            sum_r += r[i]\n",
    "            while cursor < row_end :\n",
    "                r_[ g[cursor] ] += score_share\n",
    "                cursor += 1\n",
    "    \n",
    "    # multiply by beta\n",
    "    sum_r = sum_r * beta\n",
    "    leaked = 1 - sum_r\n",
    "    leaked_share = leaked / size if leaked > 0 else 0.0\n",
    "    \n",
    "    _i = 0\n",
    "    while _i < size:\n",
    "        # multiply by beta and fix leak at the same time\n",
    "        r_[_i] = r_[_i] * beta + leaked_share\n",
    "        _i +=1\n",
    "    \n",
    "    diff = diff_vector(r, r_)\n",
    "    r, r_ = r_, r\n",
    "    t += 1\n",
    "    \n",
    "    return r, t"
   ]
  },
  {
   "cell_type": "code",
   "execution_count": 33,
   "metadata": {
    "collapsed": false
   },
   "outputs": [
    {
     "name": "stdout",
     "output_type": "stream",
     "text": [
      "# Directed graph (each unordered pair of nodes is saved once): web-Google.txt \n",
      "\n",
      "# Webgraph from the Google programming contest, 2002\n",
      "\n",
      "# FromNodeId\tToNodeId\n",
      "\n",
      "0 0\n",
      "\n",
      "0 1\n",
      "\n",
      "1 1\n",
      "\n",
      "1 2\n",
      "\n",
      "2 2\n",
      "\n",
      "2 3\n",
      "\n",
      "3 3\n",
      "\n",
      "3 4\n",
      "\n",
      "4 4\n",
      "\n",
      "4 1\n"
     ]
    },
    {
     "name": "stderr",
     "output_type": "stream",
     "text": [
      "PID 1348\n"
     ]
    },
    {
     "data": {
      "text/plain": [
       "'4 1'"
      ]
     },
     "execution_count": 33,
     "metadata": {},
     "output_type": "execute_result"
    }
   ],
   "source": [
    "print >> sys.stderr, 'PID {0}'.format(os.getpid())\n",
    "timer = time.time()\n",
    "\n",
    "\n",
    "dir_path = 'workspace/hse_amda/'\n",
    "full_file_path = 'web.txt'\n",
    "\n",
    "f = open(full_file_path,'r')\n",
    "for line in f.readlines():\n",
    "    lines = line\n",
    "    print line\n",
    "f.close()\n",
    "\n",
    "lines"
   ]
  },
  {
   "cell_type": "code",
   "execution_count": 34,
   "metadata": {
    "collapsed": false
   },
   "outputs": [
    {
     "name": "stdout",
     "output_type": "stream",
     "text": [
      "['4']\n",
      "[]\n",
      "['1']\n"
     ]
    }
   ],
   "source": [
    "for line in lines:\n",
    "    if line.startswith('#'):\n",
    "        continue\n",
    "    l = line.split()\n",
    "    newline = line.split()\n",
    "    print(newline)"
   ]
  },
  {
   "cell_type": "code",
   "execution_count": 37,
   "metadata": {
    "collapsed": false
   },
   "outputs": [
    {
     "name": "stdout",
     "output_type": "stream",
     "text": [
      "# Directed graph (each unordered pair of nodes is saved once): web-Google.txt \n",
      "# Webgraph from the Google programming contest, 2002\n",
      "# FromNodeId\tToNodeId\n",
      "0 0\n",
      "0 1\n",
      "1 1\n",
      "1 2\n",
      "2 2\n",
      "2 3\n",
      "3 3\n",
      "3 4\n",
      "4 4\n",
      "4 1\n"
     ]
    },
    {
     "data": {
      "text/plain": [
       "'4 1'"
      ]
     },
     "execution_count": 37,
     "metadata": {},
     "output_type": "execute_result"
    }
   ],
   "source": [
    "f = open(full_file_path,'r')\n",
    "line2 = ''\n",
    "for line in f.read().split('\\n'):\n",
    "    line2 = line\n",
    "    print(line2)\n",
    "f.close()\n",
    "line2"
   ]
  },
  {
   "cell_type": "code",
   "execution_count": 38,
   "metadata": {
    "collapsed": false
   },
   "outputs": [
    {
     "data": {
      "text/plain": [
       "<closed file 'web.txt', mode 'r' at 0x7f2f49c79db0>"
      ]
     },
     "execution_count": 38,
     "metadata": {},
     "output_type": "execute_result"
    }
   ],
   "source": [
    "f"
   ]
  },
  {
   "cell_type": "code",
   "execution_count": 28,
   "metadata": {
    "collapsed": false
   },
   "outputs": [
    {
     "ename": "IndexError",
     "evalue": "list index out of range",
     "output_type": "error",
     "traceback": [
      "\u001b[1;31m---------------------------------------------------------------------------\u001b[0m",
      "\u001b[1;31mIndexError\u001b[0m                                Traceback (most recent call last)",
      "\u001b[1;32m<ipython-input-28-c26beb0f6ebf>\u001b[0m in \u001b[0;36m<module>\u001b[1;34m()\u001b[0m\n\u001b[0;32m      1\u001b[0m \u001b[1;33m\u001b[0m\u001b[0m\n\u001b[0;32m      2\u001b[0m \u001b[1;33m\u001b[0m\u001b[0m\n\u001b[1;32m----> 3\u001b[1;33m \u001b[0mg\u001b[0m\u001b[1;33m,\u001b[0m \u001b[0minG\u001b[0m\u001b[1;33m,\u001b[0m \u001b[0mnodes\u001b[0m \u001b[1;33m=\u001b[0m \u001b[0mreadGraph\u001b[0m\u001b[1;33m(\u001b[0m\u001b[0mline2\u001b[0m\u001b[1;33m)\u001b[0m\u001b[1;33m\u001b[0m\u001b[0m\n\u001b[0m\u001b[0;32m      4\u001b[0m \u001b[1;32mprint\u001b[0m \u001b[1;33m>>\u001b[0m \u001b[0msys\u001b[0m\u001b[1;33m.\u001b[0m\u001b[0mstderr\u001b[0m\u001b[1;33m,\u001b[0m \u001b[1;34m'Read graph: {0:.1f} seconds.'\u001b[0m\u001b[1;33m.\u001b[0m\u001b[0mformat\u001b[0m\u001b[1;33m(\u001b[0m\u001b[0mtime\u001b[0m\u001b[1;33m.\u001b[0m\u001b[0mtime\u001b[0m\u001b[1;33m(\u001b[0m\u001b[1;33m)\u001b[0m \u001b[1;33m-\u001b[0m \u001b[0mtimer\u001b[0m\u001b[1;33m)\u001b[0m\u001b[1;33m\u001b[0m\u001b[0m\n\u001b[0;32m      5\u001b[0m \u001b[1;33m\u001b[0m\u001b[0m\n",
      "\u001b[1;32m<ipython-input-4-9c365d0adbc0>\u001b[0m in \u001b[0;36mreadGraph\u001b[1;34m(lines)\u001b[0m\n\u001b[0;32m      8\u001b[0m             \u001b[1;32mcontinue\u001b[0m\u001b[1;33m\u001b[0m\u001b[0m\n\u001b[0;32m      9\u001b[0m         \u001b[0ml\u001b[0m \u001b[1;33m=\u001b[0m \u001b[0mline\u001b[0m\u001b[1;33m.\u001b[0m\u001b[0msplit\u001b[0m\u001b[1;33m(\u001b[0m\u001b[1;33m)\u001b[0m\u001b[1;33m\u001b[0m\u001b[0m\n\u001b[1;32m---> 10\u001b[1;33m         \u001b[0mk\u001b[0m \u001b[1;33m=\u001b[0m \u001b[0mint\u001b[0m\u001b[1;33m(\u001b[0m\u001b[0ml\u001b[0m\u001b[1;33m[\u001b[0m\u001b[1;36m0\u001b[0m\u001b[1;33m]\u001b[0m\u001b[1;33m)\u001b[0m\u001b[1;33m\u001b[0m\u001b[0m\n\u001b[0m\u001b[0;32m     11\u001b[0m         \u001b[0mv\u001b[0m \u001b[1;33m=\u001b[0m \u001b[0mint\u001b[0m\u001b[1;33m(\u001b[0m\u001b[0ml\u001b[0m\u001b[1;33m[\u001b[0m\u001b[1;33m-\u001b[0m\u001b[1;36m1\u001b[0m\u001b[1;33m]\u001b[0m\u001b[1;33m)\u001b[0m\u001b[1;33m\u001b[0m\u001b[0m\n\u001b[0;32m     12\u001b[0m         \u001b[0mg\u001b[0m\u001b[1;33m.\u001b[0m\u001b[0msetdefault\u001b[0m\u001b[1;33m(\u001b[0m\u001b[0mk\u001b[0m\u001b[1;33m,\u001b[0m \u001b[0mset\u001b[0m\u001b[1;33m(\u001b[0m\u001b[1;33m)\u001b[0m\u001b[1;33m)\u001b[0m\u001b[1;33m.\u001b[0m\u001b[0madd\u001b[0m\u001b[1;33m(\u001b[0m\u001b[0mv\u001b[0m\u001b[1;33m)\u001b[0m\u001b[1;33m\u001b[0m\u001b[0m\n",
      "\u001b[1;31mIndexError\u001b[0m: list index out of range"
     ]
    }
   ],
   "source": [
    "\n",
    "\n",
    "g, inG, nodes = readGraph(line2)\n",
    "print >> sys.stderr, 'Read graph: {0:.1f} seconds.'.format(time.time() - timer)\n",
    "\n",
    "timer = 0 - time.time()\n",
    "inG, g = transformToArray(nodes, inG, g)\n",
    "timer += time.time()\n",
    "print >> sys.stderr, 'Preprocess graph: {0:.1f} seconds'.format(timer)\n",
    "\n",
    "timer = 0 - time.time() \n",
    "r, t = pageRank(nodes, g, inG)\n",
    "timer += time.time()\n",
    "print >> sys.stderr, 'Page Rank: {0:.1f} seconds.'.format(timer)\n",
    "\n",
    "for idx, i in enumerate(r):\n",
    "    print '{0} {1:.10e}'.format(nodes[idx], i)\n",
    "print >> sys.stderr, 'Done after {0} iterations.'.format(t)"
   ]
  },
  {
   "cell_type": "code",
   "execution_count": null,
   "metadata": {
    "collapsed": true
   },
   "outputs": [],
   "source": []
  }
 ],
 "metadata": {
  "kernelspec": {
   "display_name": "Python 2",
   "language": "python",
   "name": "python2"
  },
  "language_info": {
   "codemirror_mode": {
    "name": "ipython",
    "version": 2
   },
   "file_extension": ".py",
   "mimetype": "text/x-python",
   "name": "python",
   "nbconvert_exporter": "python",
   "pygments_lexer": "ipython2",
   "version": "2.7.10"
  }
 },
 "nbformat": 4,
 "nbformat_minor": 0
}
