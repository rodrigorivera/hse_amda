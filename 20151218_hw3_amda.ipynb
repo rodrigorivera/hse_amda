{
 "cells": [
  {
   "cell_type": "markdown",
   "metadata": {},
   "source": [
    "# Homework 3\n",
    "## Rodrigo Rivera"
   ]
  },
  {
   "cell_type": "markdown",
   "metadata": {},
   "source": [
    "1. Estimate the PageRank for the given Web (see the Graph) with finite number of iterations using your own developed program:\n",
    "    \n",
    "    With no taxation\n",
    "    \n",
    "    Β=0.9\n",
    "2. Define the criteria of stopping (e.g. ε<0.001)\n",
    "3. Report should contain:\n",
    "    The structure of the Web (Graph)\n",
    "    Description of code / script and etc.\n",
    "4. Conclusions"
   ]
  },
  {
   "cell_type": "code",
   "execution_count": null,
   "metadata": {
    "collapsed": true
   },
   "outputs": [],
   "source": []
  }
 ],
 "metadata": {
  "kernelspec": {
   "display_name": "Python 2",
   "language": "python",
   "name": "python2"
  },
  "language_info": {
   "codemirror_mode": {
    "name": "ipython",
    "version": 2
   },
   "file_extension": ".py",
   "mimetype": "text/x-python",
   "name": "python",
   "nbconvert_exporter": "python",
   "pygments_lexer": "ipython2",
   "version": "2.7.10"
  }
 },
 "nbformat": 4,
 "nbformat_minor": 0
}
